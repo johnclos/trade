{
 "cells": [
  {
   "cell_type": "markdown",
   "id": "ed8e644d-196b-4bbc-9f7b-a0ff14c2e782",
   "metadata": {},
   "source": [
    "###### From: https://www.google.com/search?q=how+to+find+candlestick+patterns+in+data+using+python&rlz=1C1VDKB_enUS947US947&oq=how+to+find+candlestick+patterns+in+data+using+python&gs_lcrp=EgZjaHJvbWUyBggAEEUYOTIHCAEQIRigATIHCAIQIRigATIHCAMQIRigATIHCAQQIRigATIHCAUQIRigATIHCAYQIRirAjIHCAcQIRifBTIHCAgQIRifBdIBCzEwMTQ1NGowajE1qAIIsAIB&sourceid=chrome&ie=UTF-8\n",
    "\n",
    "## Candlestick Patterns\n",
    "https://www.tastyfx.com/news/16-candlestick-patterns-every-trader-should-know-180615/\n",
    "\n",
    "\n",
    "## TA-Lib - Technical Analysis Library\n",
    "https://ta-lib.org/\n",
    "\n",
    "## Environment: talib_env"
   ]
  },
  {
   "cell_type": "code",
   "execution_count": 1,
   "id": "3b0bd256-2643-4d45-a887-b0231e523106",
   "metadata": {},
   "outputs": [],
   "source": [
    "import pandas as pd\n",
    "import talib\n",
    "import mplfinance as mpf\n",
    "import pprint\n",
    "import numpy as np"
   ]
  },
  {
   "cell_type": "code",
   "execution_count": 2,
   "id": "aaaf0f07-64c9-409e-bab7-501e0c21df63",
   "metadata": {},
   "outputs": [],
   "source": [
    "# Assuming your data is in a CSV file with columns 'Open', 'High', 'Low', 'Close'\n",
    "data = pd.read_csv(\"data/SPDR S&P 500 ETF Trust Units_SPY_HistoricalData_20240830A.csv\") "
   ]
  },
  {
   "cell_type": "code",
   "execution_count": 3,
   "id": "9aa2e126-ffac-4101-bc8b-c3e95235348e",
   "metadata": {},
   "outputs": [
    {
     "data": {
      "text/html": [
       "<div>\n",
       "<style scoped>\n",
       "    .dataframe tbody tr th:only-of-type {\n",
       "        vertical-align: middle;\n",
       "    }\n",
       "\n",
       "    .dataframe tbody tr th {\n",
       "        vertical-align: top;\n",
       "    }\n",
       "\n",
       "    .dataframe thead th {\n",
       "        text-align: right;\n",
       "    }\n",
       "</style>\n",
       "<table border=\"1\" class=\"dataframe\">\n",
       "  <thead>\n",
       "    <tr style=\"text-align: right;\">\n",
       "      <th></th>\n",
       "      <th>Date</th>\n",
       "      <th>Open</th>\n",
       "      <th>High</th>\n",
       "      <th>Low</th>\n",
       "      <th>Close</th>\n",
       "      <th>Volume</th>\n",
       "    </tr>\n",
       "  </thead>\n",
       "  <tbody>\n",
       "    <tr>\n",
       "      <th>0</th>\n",
       "      <td>8/29/2024</td>\n",
       "      <td>560.31</td>\n",
       "      <td>563.68</td>\n",
       "      <td>557.18</td>\n",
       "      <td>558.35</td>\n",
       "      <td>38715180</td>\n",
       "    </tr>\n",
       "    <tr>\n",
       "      <th>1</th>\n",
       "      <td>8/28/2024</td>\n",
       "      <td>561.21</td>\n",
       "      <td>561.65</td>\n",
       "      <td>555.04</td>\n",
       "      <td>558.30</td>\n",
       "      <td>41066020</td>\n",
       "    </tr>\n",
       "    <tr>\n",
       "      <th>2</th>\n",
       "      <td>8/27/2024</td>\n",
       "      <td>559.49</td>\n",
       "      <td>562.06</td>\n",
       "      <td>558.32</td>\n",
       "      <td>561.56</td>\n",
       "      <td>32693900</td>\n",
       "    </tr>\n",
       "    <tr>\n",
       "      <th>3</th>\n",
       "      <td>8/26/2024</td>\n",
       "      <td>563.18</td>\n",
       "      <td>563.91</td>\n",
       "      <td>559.05</td>\n",
       "      <td>560.79</td>\n",
       "      <td>35788610</td>\n",
       "    </tr>\n",
       "    <tr>\n",
       "      <th>4</th>\n",
       "      <td>8/23/2024</td>\n",
       "      <td>559.53</td>\n",
       "      <td>563.09</td>\n",
       "      <td>557.29</td>\n",
       "      <td>562.13</td>\n",
       "      <td>50639390</td>\n",
       "    </tr>\n",
       "  </tbody>\n",
       "</table>\n",
       "</div>"
      ],
      "text/plain": [
       "        Date    Open    High     Low   Close    Volume\n",
       "0  8/29/2024  560.31  563.68  557.18  558.35  38715180\n",
       "1  8/28/2024  561.21  561.65  555.04  558.30  41066020\n",
       "2  8/27/2024  559.49  562.06  558.32  561.56  32693900\n",
       "3  8/26/2024  563.18  563.91  559.05  560.79  35788610\n",
       "4  8/23/2024  559.53  563.09  557.29  562.13  50639390"
      ]
     },
     "execution_count": 3,
     "metadata": {},
     "output_type": "execute_result"
    }
   ],
   "source": [
    "data.rename(columns = {'Close/Last': 'Close'}, inplace = True)\n",
    "data.head()"
   ]
  },
  {
   "cell_type": "markdown",
   "id": "750268b4-f09a-44a8-b806-b68c6b3d8281",
   "metadata": {},
   "source": [
    "## Engulfing"
   ]
  },
  {
   "cell_type": "code",
   "execution_count": 4,
   "id": "11c4a009-7316-4a06-9c46-1b20dd3bc744",
   "metadata": {},
   "outputs": [
    {
     "data": {
      "text/html": [
       "<div>\n",
       "<style scoped>\n",
       "    .dataframe tbody tr th:only-of-type {\n",
       "        vertical-align: middle;\n",
       "    }\n",
       "\n",
       "    .dataframe tbody tr th {\n",
       "        vertical-align: top;\n",
       "    }\n",
       "\n",
       "    .dataframe thead th {\n",
       "        text-align: right;\n",
       "    }\n",
       "</style>\n",
       "<table border=\"1\" class=\"dataframe\">\n",
       "  <thead>\n",
       "    <tr style=\"text-align: right;\">\n",
       "      <th></th>\n",
       "      <th>Date</th>\n",
       "      <th>Open</th>\n",
       "      <th>High</th>\n",
       "      <th>Low</th>\n",
       "      <th>Close</th>\n",
       "      <th>Volume</th>\n",
       "      <th>engulfing</th>\n",
       "    </tr>\n",
       "  </thead>\n",
       "  <tbody>\n",
       "    <tr>\n",
       "      <th>8</th>\n",
       "      <td>8/19/2024</td>\n",
       "      <td>554.73</td>\n",
       "      <td>559.61</td>\n",
       "      <td>553.860</td>\n",
       "      <td>559.61</td>\n",
       "      <td>39121790</td>\n",
       "      <td>100</td>\n",
       "    </tr>\n",
       "    <tr>\n",
       "      <th>28</th>\n",
       "      <td>7/22/2024</td>\n",
       "      <td>553.00</td>\n",
       "      <td>555.27</td>\n",
       "      <td>551.020</td>\n",
       "      <td>554.65</td>\n",
       "      <td>43346720</td>\n",
       "      <td>100</td>\n",
       "    </tr>\n",
       "    <tr>\n",
       "      <th>69</th>\n",
       "      <td>5/21/2024</td>\n",
       "      <td>529.28</td>\n",
       "      <td>531.52</td>\n",
       "      <td>529.070</td>\n",
       "      <td>531.36</td>\n",
       "      <td>33437000</td>\n",
       "      <td>100</td>\n",
       "    </tr>\n",
       "    <tr>\n",
       "      <th>135</th>\n",
       "      <td>2/15/2024</td>\n",
       "      <td>499.29</td>\n",
       "      <td>502.20</td>\n",
       "      <td>498.795</td>\n",
       "      <td>502.01</td>\n",
       "      <td>61682960</td>\n",
       "      <td>100</td>\n",
       "    </tr>\n",
       "    <tr>\n",
       "      <th>139</th>\n",
       "      <td>2/9/2024</td>\n",
       "      <td>498.84</td>\n",
       "      <td>501.65</td>\n",
       "      <td>498.490</td>\n",
       "      <td>501.20</td>\n",
       "      <td>63979380</td>\n",
       "      <td>100</td>\n",
       "    </tr>\n",
       "    <tr>\n",
       "      <th>...</th>\n",
       "      <td>...</td>\n",
       "      <td>...</td>\n",
       "      <td>...</td>\n",
       "      <td>...</td>\n",
       "      <td>...</td>\n",
       "      <td>...</td>\n",
       "      <td>...</td>\n",
       "    </tr>\n",
       "    <tr>\n",
       "      <th>2391</th>\n",
       "      <td>3/2/2015</td>\n",
       "      <td>210.78</td>\n",
       "      <td>212.06</td>\n",
       "      <td>210.720</td>\n",
       "      <td>211.99</td>\n",
       "      <td>87300760</td>\n",
       "      <td>100</td>\n",
       "    </tr>\n",
       "    <tr>\n",
       "      <th>2395</th>\n",
       "      <td>2/24/2015</td>\n",
       "      <td>211.12</td>\n",
       "      <td>212.05</td>\n",
       "      <td>210.760</td>\n",
       "      <td>211.81</td>\n",
       "      <td>72214030</td>\n",
       "      <td>100</td>\n",
       "    </tr>\n",
       "    <tr>\n",
       "      <th>2417</th>\n",
       "      <td>1/22/2015</td>\n",
       "      <td>203.99</td>\n",
       "      <td>206.26</td>\n",
       "      <td>202.330</td>\n",
       "      <td>206.10</td>\n",
       "      <td>173536400</td>\n",
       "      <td>100</td>\n",
       "    </tr>\n",
       "    <tr>\n",
       "      <th>2460</th>\n",
       "      <td>11/18/2014</td>\n",
       "      <td>204.44</td>\n",
       "      <td>205.92</td>\n",
       "      <td>204.440</td>\n",
       "      <td>205.55</td>\n",
       "      <td>75858730</td>\n",
       "      <td>100</td>\n",
       "    </tr>\n",
       "    <tr>\n",
       "      <th>2512</th>\n",
       "      <td>9/5/2014</td>\n",
       "      <td>200.17</td>\n",
       "      <td>201.19</td>\n",
       "      <td>199.410</td>\n",
       "      <td>201.11</td>\n",
       "      <td>102010300</td>\n",
       "      <td>100</td>\n",
       "    </tr>\n",
       "  </tbody>\n",
       "</table>\n",
       "<p>77 rows × 7 columns</p>\n",
       "</div>"
      ],
      "text/plain": [
       "            Date    Open    High      Low   Close     Volume  engulfing\n",
       "8      8/19/2024  554.73  559.61  553.860  559.61   39121790        100\n",
       "28     7/22/2024  553.00  555.27  551.020  554.65   43346720        100\n",
       "69     5/21/2024  529.28  531.52  529.070  531.36   33437000        100\n",
       "135    2/15/2024  499.29  502.20  498.795  502.01   61682960        100\n",
       "139     2/9/2024  498.84  501.65  498.490  501.20   63979380        100\n",
       "...          ...     ...     ...      ...     ...        ...        ...\n",
       "2391    3/2/2015  210.78  212.06  210.720  211.99   87300760        100\n",
       "2395   2/24/2015  211.12  212.05  210.760  211.81   72214030        100\n",
       "2417   1/22/2015  203.99  206.26  202.330  206.10  173536400        100\n",
       "2460  11/18/2014  204.44  205.92  204.440  205.55   75858730        100\n",
       "2512    9/5/2014  200.17  201.19  199.410  201.11  102010300        100\n",
       "\n",
       "[77 rows x 7 columns]"
      ]
     },
     "execution_count": 4,
     "metadata": {},
     "output_type": "execute_result"
    }
   ],
   "source": [
    "# Detect a bullish engulfing pattern\n",
    "data['engulfing'] = talib.CDLENGULFING(data['Open'], data['High'], data['Low'], data['Close'])\n",
    "\n",
    "# Get the dates where the engulfing pattern occurred\n",
    "engulfing_dates = data[data['engulfing'] == 100].index\n",
    "\n",
    "data[data['engulfing'] == 100]"
   ]
  },
  {
   "cell_type": "code",
   "execution_count": 5,
   "id": "dc7d0514-d0a9-4b43-bbf5-abd34987e695",
   "metadata": {},
   "outputs": [
    {
     "name": "stdout",
     "output_type": "stream",
     "text": [
      "[8, 28, 69, 135, 139, 144, 347, 366, 392, 408, 421, 460, 489, 521, 560, 563, 566, 601, 699, 717, 736, 743, 754, 770, 773, 789, 814, 845, 945, 976, 1109, 1112, 1165, 1170, 1233, 1273, 1282, 1284, 1348, 1386, 1401, 1509, 1573, 1577, 1651, 1658, 1665, 1696, 1705, 1719, 1731, 1849, 1852, 1866, 1911, 1941, 1990, 2001, 2004, 2013, 2039, 2117, 2184, 2197, 2208, 2240, 2253, 2274, 2277, 2334, 2379, 2383, 2391, 2395, 2417, 2460, 2512]\n"
     ]
    }
   ],
   "source": [
    "# Get the index values\n",
    "engulfing_index_values = np.where(data['engulfing'] == 100)[0].tolist()\n",
    "\n",
    "print(engulfing_index_values)"
   ]
  },
  {
   "cell_type": "code",
   "execution_count": 6,
   "id": "2f9b38ae-b8a9-42fc-9a27-e64706bdae36",
   "metadata": {},
   "outputs": [
    {
     "name": "stdin",
     "output_type": "stream",
     "text": [
      "Enter target index:  392\n",
      "Enter amount to subtract from target index:  2\n",
      "Enter amount to add to target index:  10\n"
     ]
    }
   ],
   "source": [
    "target_index = input(\"Enter target index: \")\n",
    "subtract_from = input(\"Enter amount to subtract from target index: \")\n",
    "add_to = input(\"Enter amount to add to target index: \")"
   ]
  },
  {
   "cell_type": "code",
   "execution_count": 7,
   "id": "05bfdc44-2aa1-4d1e-aa86-32af14980e5f",
   "metadata": {},
   "outputs": [
    {
     "name": "stderr",
     "output_type": "stream",
     "text": [
      "C:\\Users\\jjel0\\AppData\\Local\\Temp\\ipykernel_35000\\2411880134.py:5: SettingWithCopyWarning: \n",
      "A value is trying to be set on a copy of a slice from a DataFrame.\n",
      "Try using .loc[row_indexer,col_indexer] = value instead\n",
      "\n",
      "See the caveats in the documentation: https://pandas.pydata.org/pandas-docs/stable/user_guide/indexing.html#returning-a-view-versus-a-copy\n",
      "  engulfing_df['Date'] = pd.to_datetime(engulfing_df['Date'])  # Ensure the column is in datetime format\n"
     ]
    },
    {
     "data": {
      "image/png": "[encoded data removed]",
      "text/plain": [
       "<Figure size 800x575 with 4 Axes>"
      ]
     },
     "metadata": {},
     "output_type": "display_data"
    }
   ],
   "source": [
    "low_value = int(target_index) - int(subtract_from)\n",
    "high_value = int(target_index) + int(add_to)\n",
    "engulfing_df = data.iloc[low_value:high_value]\n",
    "\n",
    "engulfing_df['Date'] = pd.to_datetime(engulfing_df['Date'])  # Ensure the column is in datetime format\n",
    "engulfing_df.set_index('Date', inplace=True)       # Set the column as the DataFrame index\n",
    "\n",
    "# Create a candlestick chart\n",
    "mpf.plot(engulfing_df, type='candle', volume=True)"
   ]
  },
  {
   "cell_type": "markdown",
   "id": "fded38bf-1fc9-4b61-b3b0-609daa33b153",
   "metadata": {},
   "source": [
    "## Hammer"
   ]
  },
  {
   "cell_type": "code",
   "execution_count": 8,
   "id": "5cdb2566-d3fd-407a-8fe9-37c5028c4c75",
   "metadata": {},
   "outputs": [
    {
     "data": {
      "text/html": [
       "<div>\n",
       "<style scoped>\n",
       "    .dataframe tbody tr th:only-of-type {\n",
       "        vertical-align: middle;\n",
       "    }\n",
       "\n",
       "    .dataframe tbody tr th {\n",
       "        vertical-align: top;\n",
       "    }\n",
       "\n",
       "    .dataframe thead th {\n",
       "        text-align: right;\n",
       "    }\n",
       "</style>\n",
       "<table border=\"1\" class=\"dataframe\">\n",
       "  <thead>\n",
       "    <tr style=\"text-align: right;\">\n",
       "      <th></th>\n",
       "      <th>Date</th>\n",
       "      <th>Open</th>\n",
       "      <th>High</th>\n",
       "      <th>Low</th>\n",
       "      <th>Close</th>\n",
       "      <th>Volume</th>\n",
       "      <th>engulfing</th>\n",
       "      <th>hammer</th>\n",
       "    </tr>\n",
       "  </thead>\n",
       "  <tbody>\n",
       "    <tr>\n",
       "      <th>28</th>\n",
       "      <td>7/22/2024</td>\n",
       "      <td>553.00</td>\n",
       "      <td>555.27</td>\n",
       "      <td>551.020</td>\n",
       "      <td>554.650</td>\n",
       "      <td>43346720</td>\n",
       "      <td>100</td>\n",
       "      <td>100</td>\n",
       "    </tr>\n",
       "    <tr>\n",
       "      <th>71</th>\n",
       "      <td>5/17/2024</td>\n",
       "      <td>528.81</td>\n",
       "      <td>529.52</td>\n",
       "      <td>527.320</td>\n",
       "      <td>529.450</td>\n",
       "      <td>59187590</td>\n",
       "      <td>0</td>\n",
       "      <td>100</td>\n",
       "    </tr>\n",
       "    <tr>\n",
       "      <th>104</th>\n",
       "      <td>4/2/2024</td>\n",
       "      <td>518.24</td>\n",
       "      <td>518.98</td>\n",
       "      <td>516.480</td>\n",
       "      <td>518.840</td>\n",
       "      <td>74230310</td>\n",
       "      <td>0</td>\n",
       "      <td>100</td>\n",
       "    </tr>\n",
       "    <tr>\n",
       "      <th>107</th>\n",
       "      <td>3/27/2024</td>\n",
       "      <td>521.71</td>\n",
       "      <td>523.21</td>\n",
       "      <td>519.485</td>\n",
       "      <td>523.170</td>\n",
       "      <td>82999780</td>\n",
       "      <td>0</td>\n",
       "      <td>100</td>\n",
       "    </tr>\n",
       "    <tr>\n",
       "      <th>140</th>\n",
       "      <td>2/8/2024</td>\n",
       "      <td>498.10</td>\n",
       "      <td>498.71</td>\n",
       "      <td>497.260</td>\n",
       "      <td>498.320</td>\n",
       "      <td>52343640</td>\n",
       "      <td>0</td>\n",
       "      <td>100</td>\n",
       "    </tr>\n",
       "    <tr>\n",
       "      <th>...</th>\n",
       "      <td>...</td>\n",
       "      <td>...</td>\n",
       "      <td>...</td>\n",
       "      <td>...</td>\n",
       "      <td>...</td>\n",
       "      <td>...</td>\n",
       "      <td>...</td>\n",
       "      <td>...</td>\n",
       "    </tr>\n",
       "    <tr>\n",
       "      <th>2262</th>\n",
       "      <td>9/2/2015</td>\n",
       "      <td>194.62</td>\n",
       "      <td>195.46</td>\n",
       "      <td>192.420</td>\n",
       "      <td>195.410</td>\n",
       "      <td>159445200</td>\n",
       "      <td>0</td>\n",
       "      <td>100</td>\n",
       "    </tr>\n",
       "    <tr>\n",
       "      <th>2280</th>\n",
       "      <td>8/7/2015</td>\n",
       "      <td>208.16</td>\n",
       "      <td>208.34</td>\n",
       "      <td>206.870</td>\n",
       "      <td>207.950</td>\n",
       "      <td>117703500</td>\n",
       "      <td>0</td>\n",
       "      <td>100</td>\n",
       "    </tr>\n",
       "    <tr>\n",
       "      <th>2295</th>\n",
       "      <td>7/17/2015</td>\n",
       "      <td>212.29</td>\n",
       "      <td>212.55</td>\n",
       "      <td>211.800</td>\n",
       "      <td>212.480</td>\n",
       "      <td>88094480</td>\n",
       "      <td>0</td>\n",
       "      <td>100</td>\n",
       "    </tr>\n",
       "    <tr>\n",
       "      <th>2369</th>\n",
       "      <td>4/1/2015</td>\n",
       "      <td>206.39</td>\n",
       "      <td>206.42</td>\n",
       "      <td>204.510</td>\n",
       "      <td>205.700</td>\n",
       "      <td>137055500</td>\n",
       "      <td>0</td>\n",
       "      <td>100</td>\n",
       "    </tr>\n",
       "    <tr>\n",
       "      <th>2396</th>\n",
       "      <td>2/23/2015</td>\n",
       "      <td>210.94</td>\n",
       "      <td>211.21</td>\n",
       "      <td>210.480</td>\n",
       "      <td>211.209</td>\n",
       "      <td>74250690</td>\n",
       "      <td>0</td>\n",
       "      <td>100</td>\n",
       "    </tr>\n",
       "  </tbody>\n",
       "</table>\n",
       "<p>85 rows × 8 columns</p>\n",
       "</div>"
      ],
      "text/plain": [
       "           Date    Open    High      Low    Close     Volume  engulfing  \\\n",
       "28    7/22/2024  553.00  555.27  551.020  554.650   43346720        100   \n",
       "71    5/17/2024  528.81  529.52  527.320  529.450   59187590          0   \n",
       "104    4/2/2024  518.24  518.98  516.480  518.840   74230310          0   \n",
       "107   3/27/2024  521.71  523.21  519.485  523.170   82999780          0   \n",
       "140    2/8/2024  498.10  498.71  497.260  498.320   52343640          0   \n",
       "...         ...     ...     ...      ...      ...        ...        ...   \n",
       "2262   9/2/2015  194.62  195.46  192.420  195.410  159445200          0   \n",
       "2280   8/7/2015  208.16  208.34  206.870  207.950  117703500          0   \n",
       "2295  7/17/2015  212.29  212.55  211.800  212.480   88094480          0   \n",
       "2369   4/1/2015  206.39  206.42  204.510  205.700  137055500          0   \n",
       "2396  2/23/2015  210.94  211.21  210.480  211.209   74250690          0   \n",
       "\n",
       "      hammer  \n",
       "28       100  \n",
       "71       100  \n",
       "104      100  \n",
       "107      100  \n",
       "140      100  \n",
       "...      ...  \n",
       "2262     100  \n",
       "2280     100  \n",
       "2295     100  \n",
       "2369     100  \n",
       "2396     100  \n",
       "\n",
       "[85 rows x 8 columns]"
      ]
     },
     "execution_count": 8,
     "metadata": {},
     "output_type": "execute_result"
    }
   ],
   "source": [
    "# Detect a hammer pattern\n",
    "data['hammer'] = talib.CDLHAMMER(data['Open'], data['High'], data['Low'], data['Close'])\n",
    "\n",
    "# Get the dates where the hammer pattern occurred\n",
    "hammer_dates = data[data['hammer'] == 100].index\n",
    "\n",
    "data[data['hammer'] == 100]"
   ]
  },
  {
   "cell_type": "code",
   "execution_count": 9,
   "id": "bf637729-947b-48ed-9b71-4288537ba808",
   "metadata": {},
   "outputs": [
    {
     "name": "stdout",
     "output_type": "stream",
     "text": [
      "[28, 71, 104, 107, 140, 142, 152, 172, 187, 356, 400, 516, 605, 647, 662, 667, 697, 769, 781, 798, 841, 854, 871, 896, 905, 923, 926, 942, 944, 968, 978, 991, 1006, 1009, 1010, 1026, 1072, 1074, 1103, 1141, 1149, 1177, 1190, 1198, 1245, 1251, 1285, 1299, 1318, 1326, 1355, 1482, 1510, 1583, 1630, 1644, 1655, 1659, 1663, 1690, 1700, 1727, 1812, 1816, 1824, 1842, 1878, 1907, 1944, 2008, 2042, 2063, 2101, 2149, 2161, 2173, 2178, 2182, 2191, 2203, 2262, 2280, 2295, 2369, 2396]\n"
     ]
    }
   ],
   "source": [
    "# Get the index values\n",
    "hammer_values = np.where(data['hammer'] == 100)[0].tolist()\n",
    "\n",
    "print(hammer_values)"
   ]
  },
  {
   "cell_type": "code",
   "execution_count": 10,
   "id": "9b435f11-b3d5-4a4e-b918-2e1f62720ba6",
   "metadata": {},
   "outputs": [
    {
     "name": "stdin",
     "output_type": "stream",
     "text": [
      "Enter target index:  841\n",
      "Enter amount to subtract from target index:  2\n",
      "Enter amount to add to target index:  10\n"
     ]
    }
   ],
   "source": [
    "target_index = input(\"Enter target index: \")\n",
    "subtract_from = input(\"Enter amount to subtract from target index: \")\n",
    "add_to = input(\"Enter amount to add to target index: \")"
   ]
  },
  {
   "cell_type": "code",
   "execution_count": 11,
   "id": "862f8d75-8722-41ab-a3dd-f21a1956c1be",
   "metadata": {},
   "outputs": [
    {
     "name": "stderr",
     "output_type": "stream",
     "text": [
      "C:\\Users\\jjel0\\AppData\\Local\\Temp\\ipykernel_35000\\91968768.py:5: SettingWithCopyWarning: \n",
      "A value is trying to be set on a copy of a slice from a DataFrame.\n",
      "Try using .loc[row_indexer,col_indexer] = value instead\n",
      "\n",
      "See the caveats in the documentation: https://pandas.pydata.org/pandas-docs/stable/user_guide/indexing.html#returning-a-view-versus-a-copy\n",
      "  hammer_df['Date'] = pd.to_datetime(hammer_df['Date'])  # Ensure the column is in datetime format\n"
     ]
    },
    {
     "data": {
      "image/png": "[encoded data removed]",
      "text/plain": [
       "<Figure size 800x575 with 4 Axes>"
      ]
     },
     "metadata": {},
     "output_type": "display_data"
    }
   ],
   "source": [
    "low_value = int(target_index) - int(subtract_from)\n",
    "high_value = int(target_index) + int(add_to)\n",
    "hammer_df = data.iloc[low_value:high_value]\n",
    "\n",
    "hammer_df['Date'] = pd.to_datetime(hammer_df['Date'])  # Ensure the column is in datetime format\n",
    "hammer_df.set_index('Date', inplace=True)       # Set the column as the DataFrame index\n",
    "\n",
    "# Create a candlestick chart\n",
    "mpf.plot(hammer_df, type='candle', volume=True)"
   ]
  },
  {
   "cell_type": "markdown",
   "id": "9bffe109-aec4-4cbb-bb33-6244158bc291",
   "metadata": {},
   "source": [
    "## Inverse Hammer"
   ]
  },
  {
   "cell_type": "code",
   "execution_count": 12,
   "id": "b94c4966-937d-4dcb-959d-69869b777ed8",
   "metadata": {},
   "outputs": [
    {
     "data": {
      "text/html": [
       "<div>\n",
       "<style scoped>\n",
       "    .dataframe tbody tr th:only-of-type {\n",
       "        vertical-align: middle;\n",
       "    }\n",
       "\n",
       "    .dataframe tbody tr th {\n",
       "        vertical-align: top;\n",
       "    }\n",
       "\n",
       "    .dataframe thead th {\n",
       "        text-align: right;\n",
       "    }\n",
       "</style>\n",
       "<table border=\"1\" class=\"dataframe\">\n",
       "  <thead>\n",
       "    <tr style=\"text-align: right;\">\n",
       "      <th></th>\n",
       "      <th>Date</th>\n",
       "      <th>Open</th>\n",
       "      <th>High</th>\n",
       "      <th>Low</th>\n",
       "      <th>Close</th>\n",
       "      <th>Volume</th>\n",
       "      <th>engulfing</th>\n",
       "      <th>hammer</th>\n",
       "      <th>inverse_hammer</th>\n",
       "    </tr>\n",
       "  </thead>\n",
       "  <tbody>\n",
       "    <tr>\n",
       "      <th>24</th>\n",
       "      <td>7/26/2024</td>\n",
       "      <td>542.280</td>\n",
       "      <td>547.1900</td>\n",
       "      <td>541.4900</td>\n",
       "      <td>544.44</td>\n",
       "      <td>53763790</td>\n",
       "      <td>0</td>\n",
       "      <td>0</td>\n",
       "      <td>100</td>\n",
       "    </tr>\n",
       "    <tr>\n",
       "      <th>25</th>\n",
       "      <td>7/25/2024</td>\n",
       "      <td>541.350</td>\n",
       "      <td>547.4550</td>\n",
       "      <td>537.4500</td>\n",
       "      <td>538.41</td>\n",
       "      <td>61158290</td>\n",
       "      <td>0</td>\n",
       "      <td>0</td>\n",
       "      <td>100</td>\n",
       "    </tr>\n",
       "    <tr>\n",
       "      <th>34</th>\n",
       "      <td>7/12/2024</td>\n",
       "      <td>557.630</td>\n",
       "      <td>563.6700</td>\n",
       "      <td>557.1500</td>\n",
       "      <td>559.99</td>\n",
       "      <td>53084410</td>\n",
       "      <td>0</td>\n",
       "      <td>0</td>\n",
       "      <td>100</td>\n",
       "    </tr>\n",
       "    <tr>\n",
       "      <th>37</th>\n",
       "      <td>7/9/2024</td>\n",
       "      <td>556.260</td>\n",
       "      <td>557.1800</td>\n",
       "      <td>555.5200</td>\n",
       "      <td>555.82</td>\n",
       "      <td>27314130</td>\n",
       "      <td>0</td>\n",
       "      <td>0</td>\n",
       "      <td>100</td>\n",
       "    </tr>\n",
       "    <tr>\n",
       "      <th>205</th>\n",
       "      <td>11/3/2023</td>\n",
       "      <td>433.140</td>\n",
       "      <td>436.2900</td>\n",
       "      <td>433.0100</td>\n",
       "      <td>434.69</td>\n",
       "      <td>100167800</td>\n",
       "      <td>0</td>\n",
       "      <td>0</td>\n",
       "      <td>100</td>\n",
       "    </tr>\n",
       "    <tr>\n",
       "      <th>223</th>\n",
       "      <td>10/10/2023</td>\n",
       "      <td>432.940</td>\n",
       "      <td>437.2200</td>\n",
       "      <td>432.5300</td>\n",
       "      <td>434.54</td>\n",
       "      <td>78607270</td>\n",
       "      <td>0</td>\n",
       "      <td>0</td>\n",
       "      <td>100</td>\n",
       "    </tr>\n",
       "    <tr>\n",
       "      <th>329</th>\n",
       "      <td>5/9/2023</td>\n",
       "      <td>411.130</td>\n",
       "      <td>412.0900</td>\n",
       "      <td>410.6894</td>\n",
       "      <td>410.93</td>\n",
       "      <td>49220120</td>\n",
       "      <td>0</td>\n",
       "      <td>0</td>\n",
       "      <td>100</td>\n",
       "    </tr>\n",
       "    <tr>\n",
       "      <th>449</th>\n",
       "      <td>11/14/2022</td>\n",
       "      <td>396.660</td>\n",
       "      <td>400.1799</td>\n",
       "      <td>394.8300</td>\n",
       "      <td>395.12</td>\n",
       "      <td>71893170</td>\n",
       "      <td>0</td>\n",
       "      <td>0</td>\n",
       "      <td>100</td>\n",
       "    </tr>\n",
       "    <tr>\n",
       "      <th>550</th>\n",
       "      <td>6/22/2022</td>\n",
       "      <td>370.620</td>\n",
       "      <td>378.7200</td>\n",
       "      <td>370.1800</td>\n",
       "      <td>374.39</td>\n",
       "      <td>90059420</td>\n",
       "      <td>0</td>\n",
       "      <td>0</td>\n",
       "      <td>100</td>\n",
       "    </tr>\n",
       "    <tr>\n",
       "      <th>668</th>\n",
       "      <td>12/31/2021</td>\n",
       "      <td>475.640</td>\n",
       "      <td>476.8600</td>\n",
       "      <td>474.6700</td>\n",
       "      <td>474.96</td>\n",
       "      <td>65237430</td>\n",
       "      <td>0</td>\n",
       "      <td>0</td>\n",
       "      <td>100</td>\n",
       "    </tr>\n",
       "    <tr>\n",
       "      <th>800</th>\n",
       "      <td>6/24/2021</td>\n",
       "      <td>424.890</td>\n",
       "      <td>425.5500</td>\n",
       "      <td>424.6200</td>\n",
       "      <td>425.10</td>\n",
       "      <td>45110290</td>\n",
       "      <td>0</td>\n",
       "      <td>0</td>\n",
       "      <td>100</td>\n",
       "    </tr>\n",
       "    <tr>\n",
       "      <th>801</th>\n",
       "      <td>6/23/2021</td>\n",
       "      <td>423.190</td>\n",
       "      <td>424.0500</td>\n",
       "      <td>422.5100</td>\n",
       "      <td>422.60</td>\n",
       "      <td>49445410</td>\n",
       "      <td>0</td>\n",
       "      <td>0</td>\n",
       "      <td>100</td>\n",
       "    </tr>\n",
       "    <tr>\n",
       "      <th>859</th>\n",
       "      <td>3/31/2021</td>\n",
       "      <td>395.340</td>\n",
       "      <td>398.0000</td>\n",
       "      <td>395.3100</td>\n",
       "      <td>396.33</td>\n",
       "      <td>112734200</td>\n",
       "      <td>0</td>\n",
       "      <td>0</td>\n",
       "      <td>100</td>\n",
       "    </tr>\n",
       "    <tr>\n",
       "      <th>906</th>\n",
       "      <td>1/22/2021</td>\n",
       "      <td>382.250</td>\n",
       "      <td>384.1256</td>\n",
       "      <td>381.8350</td>\n",
       "      <td>382.88</td>\n",
       "      <td>52136930</td>\n",
       "      <td>0</td>\n",
       "      <td>0</td>\n",
       "      <td>100</td>\n",
       "    </tr>\n",
       "    <tr>\n",
       "      <th>914</th>\n",
       "      <td>1/11/2021</td>\n",
       "      <td>377.850</td>\n",
       "      <td>380.5800</td>\n",
       "      <td>377.7189</td>\n",
       "      <td>378.69</td>\n",
       "      <td>51176720</td>\n",
       "      <td>0</td>\n",
       "      <td>0</td>\n",
       "      <td>100</td>\n",
       "    </tr>\n",
       "    <tr>\n",
       "      <th>984</th>\n",
       "      <td>9/30/2020</td>\n",
       "      <td>333.090</td>\n",
       "      <td>338.2900</td>\n",
       "      <td>332.8800</td>\n",
       "      <td>334.89</td>\n",
       "      <td>104081100</td>\n",
       "      <td>0</td>\n",
       "      <td>0</td>\n",
       "      <td>100</td>\n",
       "    </tr>\n",
       "    <tr>\n",
       "      <th>1095</th>\n",
       "      <td>4/23/2020</td>\n",
       "      <td>280.490</td>\n",
       "      <td>283.9400</td>\n",
       "      <td>278.7500</td>\n",
       "      <td>279.08</td>\n",
       "      <td>104709700</td>\n",
       "      <td>0</td>\n",
       "      <td>0</td>\n",
       "      <td>100</td>\n",
       "    </tr>\n",
       "    <tr>\n",
       "      <th>1127</th>\n",
       "      <td>3/9/2020</td>\n",
       "      <td>275.300</td>\n",
       "      <td>284.1900</td>\n",
       "      <td>273.4500</td>\n",
       "      <td>274.23</td>\n",
       "      <td>309417300</td>\n",
       "      <td>0</td>\n",
       "      <td>0</td>\n",
       "      <td>100</td>\n",
       "    </tr>\n",
       "    <tr>\n",
       "      <th>1151</th>\n",
       "      <td>2/3/2020</td>\n",
       "      <td>323.350</td>\n",
       "      <td>326.1600</td>\n",
       "      <td>323.2200</td>\n",
       "      <td>324.12</td>\n",
       "      <td>69242290</td>\n",
       "      <td>0</td>\n",
       "      <td>0</td>\n",
       "      <td>100</td>\n",
       "    </tr>\n",
       "    <tr>\n",
       "      <th>1160</th>\n",
       "      <td>1/21/2020</td>\n",
       "      <td>330.900</td>\n",
       "      <td>332.1800</td>\n",
       "      <td>330.8200</td>\n",
       "      <td>331.30</td>\n",
       "      <td>77742420</td>\n",
       "      <td>0</td>\n",
       "      <td>0</td>\n",
       "      <td>100</td>\n",
       "    </tr>\n",
       "    <tr>\n",
       "      <th>1216</th>\n",
       "      <td>10/29/2019</td>\n",
       "      <td>303.000</td>\n",
       "      <td>304.2300</td>\n",
       "      <td>302.8600</td>\n",
       "      <td>303.21</td>\n",
       "      <td>44284920</td>\n",
       "      <td>0</td>\n",
       "      <td>0</td>\n",
       "      <td>100</td>\n",
       "    </tr>\n",
       "    <tr>\n",
       "      <th>1310</th>\n",
       "      <td>6/17/2019</td>\n",
       "      <td>289.520</td>\n",
       "      <td>290.2200</td>\n",
       "      <td>289.1800</td>\n",
       "      <td>289.37</td>\n",
       "      <td>39205710</td>\n",
       "      <td>0</td>\n",
       "      <td>0</td>\n",
       "      <td>100</td>\n",
       "    </tr>\n",
       "    <tr>\n",
       "      <th>1374</th>\n",
       "      <td>3/15/2019</td>\n",
       "      <td>280.540</td>\n",
       "      <td>282.2100</td>\n",
       "      <td>280.3300</td>\n",
       "      <td>281.31</td>\n",
       "      <td>80558110</td>\n",
       "      <td>0</td>\n",
       "      <td>0</td>\n",
       "      <td>100</td>\n",
       "    </tr>\n",
       "    <tr>\n",
       "      <th>1377</th>\n",
       "      <td>3/12/2019</td>\n",
       "      <td>279.060</td>\n",
       "      <td>280.0700</td>\n",
       "      <td>278.8500</td>\n",
       "      <td>279.49</td>\n",
       "      <td>79432230</td>\n",
       "      <td>0</td>\n",
       "      <td>0</td>\n",
       "      <td>100</td>\n",
       "    </tr>\n",
       "    <tr>\n",
       "      <th>1449</th>\n",
       "      <td>11/23/2018</td>\n",
       "      <td>263.180</td>\n",
       "      <td>264.8234</td>\n",
       "      <td>263.0700</td>\n",
       "      <td>263.25</td>\n",
       "      <td>42807880</td>\n",
       "      <td>0</td>\n",
       "      <td>0</td>\n",
       "      <td>100</td>\n",
       "    </tr>\n",
       "    <tr>\n",
       "      <th>1477</th>\n",
       "      <td>10/15/2018</td>\n",
       "      <td>275.550</td>\n",
       "      <td>277.0400</td>\n",
       "      <td>274.3000</td>\n",
       "      <td>274.40</td>\n",
       "      <td>101950500</td>\n",
       "      <td>0</td>\n",
       "      <td>0</td>\n",
       "      <td>100</td>\n",
       "    </tr>\n",
       "    <tr>\n",
       "      <th>1486</th>\n",
       "      <td>10/2/2018</td>\n",
       "      <td>291.560</td>\n",
       "      <td>292.3550</td>\n",
       "      <td>291.1400</td>\n",
       "      <td>291.56</td>\n",
       "      <td>47142170</td>\n",
       "      <td>0</td>\n",
       "      <td>0</td>\n",
       "      <td>100</td>\n",
       "    </tr>\n",
       "    <tr>\n",
       "      <th>1495</th>\n",
       "      <td>9/19/2018</td>\n",
       "      <td>290.970</td>\n",
       "      <td>291.6900</td>\n",
       "      <td>290.8250</td>\n",
       "      <td>291.22</td>\n",
       "      <td>48973100</td>\n",
       "      <td>0</td>\n",
       "      <td>0</td>\n",
       "      <td>100</td>\n",
       "    </tr>\n",
       "    <tr>\n",
       "      <th>1565</th>\n",
       "      <td>6/11/2018</td>\n",
       "      <td>278.440</td>\n",
       "      <td>279.3700</td>\n",
       "      <td>278.3100</td>\n",
       "      <td>278.56</td>\n",
       "      <td>58757260</td>\n",
       "      <td>0</td>\n",
       "      <td>0</td>\n",
       "      <td>100</td>\n",
       "    </tr>\n",
       "    <tr>\n",
       "      <th>1607</th>\n",
       "      <td>4/11/2018</td>\n",
       "      <td>263.470</td>\n",
       "      <td>265.6400</td>\n",
       "      <td>263.3900</td>\n",
       "      <td>263.76</td>\n",
       "      <td>91002710</td>\n",
       "      <td>0</td>\n",
       "      <td>0</td>\n",
       "      <td>100</td>\n",
       "    </tr>\n",
       "    <tr>\n",
       "      <th>1820</th>\n",
       "      <td>6/6/2017</td>\n",
       "      <td>243.340</td>\n",
       "      <td>243.9800</td>\n",
       "      <td>243.1200</td>\n",
       "      <td>243.21</td>\n",
       "      <td>50250970</td>\n",
       "      <td>0</td>\n",
       "      <td>0</td>\n",
       "      <td>100</td>\n",
       "    </tr>\n",
       "    <tr>\n",
       "      <th>1848</th>\n",
       "      <td>4/26/2017</td>\n",
       "      <td>238.510</td>\n",
       "      <td>239.5300</td>\n",
       "      <td>238.3500</td>\n",
       "      <td>238.40</td>\n",
       "      <td>84210820</td>\n",
       "      <td>0</td>\n",
       "      <td>0</td>\n",
       "      <td>100</td>\n",
       "    </tr>\n",
       "    <tr>\n",
       "      <th>1965</th>\n",
       "      <td>11/4/2016</td>\n",
       "      <td>208.910</td>\n",
       "      <td>209.8900</td>\n",
       "      <td>208.3800</td>\n",
       "      <td>208.55</td>\n",
       "      <td>108488200</td>\n",
       "      <td>0</td>\n",
       "      <td>0</td>\n",
       "      <td>100</td>\n",
       "    </tr>\n",
       "    <tr>\n",
       "      <th>2060</th>\n",
       "      <td>6/22/2016</td>\n",
       "      <td>208.650</td>\n",
       "      <td>209.5000</td>\n",
       "      <td>207.9300</td>\n",
       "      <td>208.10</td>\n",
       "      <td>94503660</td>\n",
       "      <td>0</td>\n",
       "      <td>0</td>\n",
       "      <td>100</td>\n",
       "    </tr>\n",
       "    <tr>\n",
       "      <th>2071</th>\n",
       "      <td>6/7/2016</td>\n",
       "      <td>211.525</td>\n",
       "      <td>212.3400</td>\n",
       "      <td>211.5000</td>\n",
       "      <td>211.68</td>\n",
       "      <td>60838610</td>\n",
       "      <td>0</td>\n",
       "      <td>0</td>\n",
       "      <td>100</td>\n",
       "    </tr>\n",
       "    <tr>\n",
       "      <th>2435</th>\n",
       "      <td>12/24/2014</td>\n",
       "      <td>208.020</td>\n",
       "      <td>208.3400</td>\n",
       "      <td>207.7200</td>\n",
       "      <td>207.77</td>\n",
       "      <td>42963400</td>\n",
       "      <td>0</td>\n",
       "      <td>0</td>\n",
       "      <td>100</td>\n",
       "    </tr>\n",
       "  </tbody>\n",
       "</table>\n",
       "</div>"
      ],
      "text/plain": [
       "            Date     Open      High       Low   Close     Volume  engulfing  \\\n",
       "24     7/26/2024  542.280  547.1900  541.4900  544.44   53763790          0   \n",
       "25     7/25/2024  541.350  547.4550  537.4500  538.41   61158290          0   \n",
       "34     7/12/2024  557.630  563.6700  557.1500  559.99   53084410          0   \n",
       "37      7/9/2024  556.260  557.1800  555.5200  555.82   27314130          0   \n",
       "205    11/3/2023  433.140  436.2900  433.0100  434.69  100167800          0   \n",
       "223   10/10/2023  432.940  437.2200  432.5300  434.54   78607270          0   \n",
       "329     5/9/2023  411.130  412.0900  410.6894  410.93   49220120          0   \n",
       "449   11/14/2022  396.660  400.1799  394.8300  395.12   71893170          0   \n",
       "550    6/22/2022  370.620  378.7200  370.1800  374.39   90059420          0   \n",
       "668   12/31/2021  475.640  476.8600  474.6700  474.96   65237430          0   \n",
       "800    6/24/2021  424.890  425.5500  424.6200  425.10   45110290          0   \n",
       "801    6/23/2021  423.190  424.0500  422.5100  422.60   49445410          0   \n",
       "859    3/31/2021  395.340  398.0000  395.3100  396.33  112734200          0   \n",
       "906    1/22/2021  382.250  384.1256  381.8350  382.88   52136930          0   \n",
       "914    1/11/2021  377.850  380.5800  377.7189  378.69   51176720          0   \n",
       "984    9/30/2020  333.090  338.2900  332.8800  334.89  104081100          0   \n",
       "1095   4/23/2020  280.490  283.9400  278.7500  279.08  104709700          0   \n",
       "1127    3/9/2020  275.300  284.1900  273.4500  274.23  309417300          0   \n",
       "1151    2/3/2020  323.350  326.1600  323.2200  324.12   69242290          0   \n",
       "1160   1/21/2020  330.900  332.1800  330.8200  331.30   77742420          0   \n",
       "1216  10/29/2019  303.000  304.2300  302.8600  303.21   44284920          0   \n",
       "1310   6/17/2019  289.520  290.2200  289.1800  289.37   39205710          0   \n",
       "1374   3/15/2019  280.540  282.2100  280.3300  281.31   80558110          0   \n",
       "1377   3/12/2019  279.060  280.0700  278.8500  279.49   79432230          0   \n",
       "1449  11/23/2018  263.180  264.8234  263.0700  263.25   42807880          0   \n",
       "1477  10/15/2018  275.550  277.0400  274.3000  274.40  101950500          0   \n",
       "1486   10/2/2018  291.560  292.3550  291.1400  291.56   47142170          0   \n",
       "1495   9/19/2018  290.970  291.6900  290.8250  291.22   48973100          0   \n",
       "1565   6/11/2018  278.440  279.3700  278.3100  278.56   58757260          0   \n",
       "1607   4/11/2018  263.470  265.6400  263.3900  263.76   91002710          0   \n",
       "1820    6/6/2017  243.340  243.9800  243.1200  243.21   50250970          0   \n",
       "1848   4/26/2017  238.510  239.5300  238.3500  238.40   84210820          0   \n",
       "1965   11/4/2016  208.910  209.8900  208.3800  208.55  108488200          0   \n",
       "2060   6/22/2016  208.650  209.5000  207.9300  208.10   94503660          0   \n",
       "2071    6/7/2016  211.525  212.3400  211.5000  211.68   60838610          0   \n",
       "2435  12/24/2014  208.020  208.3400  207.7200  207.77   42963400          0   \n",
       "\n",
       "      hammer  inverse_hammer  \n",
       "24         0             100  \n",
       "25         0             100  \n",
       "34         0             100  \n",
       "37         0             100  \n",
       "205        0             100  \n",
       "223        0             100  \n",
       "329        0             100  \n",
       "449        0             100  \n",
       "550        0             100  \n",
       "668        0             100  \n",
       "800        0             100  \n",
       "801        0             100  \n",
       "859        0             100  \n",
       "906        0             100  \n",
       "914        0             100  \n",
       "984        0             100  \n",
       "1095       0             100  \n",
       "1127       0             100  \n",
       "1151       0             100  \n",
       "1160       0             100  \n",
       "1216       0             100  \n",
       "1310       0             100  \n",
       "1374       0             100  \n",
       "1377       0             100  \n",
       "1449       0             100  \n",
       "1477       0             100  \n",
       "1486       0             100  \n",
       "1495       0             100  \n",
       "1565       0             100  \n",
       "1607       0             100  \n",
       "1820       0             100  \n",
       "1848       0             100  \n",
       "1965       0             100  \n",
       "2060       0             100  \n",
       "2071       0             100  \n",
       "2435       0             100  "
      ]
     },
     "execution_count": 12,
     "metadata": {},
     "output_type": "execute_result"
    }
   ],
   "source": [
    "# Detect an inverse hammer pattern\n",
    "data['inverse_hammer'] = talib.CDLINVERTEDHAMMER(data['Open'], data['High'], data['Low'], data['Close'])\n",
    "\n",
    "# Get the dates where the inverse hammer pattern occurred\n",
    "inverse_hammer_dates = data[data['inverse_hammer'] == 100].index\n",
    "\n",
    "data[data['inverse_hammer'] == 100]"
   ]
  },
  {
   "cell_type": "code",
   "execution_count": 13,
   "id": "bfb6e9dc-99f6-4c60-a6f5-39845ec516ef",
   "metadata": {},
   "outputs": [
    {
     "name": "stdout",
     "output_type": "stream",
     "text": [
      "[24, 25, 34, 37, 205, 223, 329, 449, 550, 668, 800, 801, 859, 906, 914, 984, 1095, 1127, 1151, 1160, 1216, 1310, 1374, 1377, 1449, 1477, 1486, 1495, 1565, 1607, 1820, 1848, 1965, 2060, 2071, 2435]\n"
     ]
    }
   ],
   "source": [
    "# Get the index values\n",
    "inverse_hammer_values = np.where(data['inverse_hammer'] == 100)[0].tolist()\n",
    "\n",
    "print(inverse_hammer_values)"
   ]
  },
  {
   "cell_type": "code",
   "execution_count": 14,
   "id": "74b8b6fa-094b-483c-9199-4c12fdf7ee27",
   "metadata": {},
   "outputs": [
    {
     "name": "stdin",
     "output_type": "stream",
     "text": [
      "Enter target index:  550\n",
      "Enter amount to subtract from target index:  2\n",
      "Enter amount to add to target index:  10\n"
     ]
    }
   ],
   "source": [
    "target_index = input(\"Enter target index: \")\n",
    "subtract_from = input(\"Enter amount to subtract from target index: \")\n",
    "add_to = input(\"Enter amount to add to target index: \")"
   ]
  },
  {
   "cell_type": "code",
   "execution_count": 15,
   "id": "f240c0ba-aac9-43aa-8eda-72b714bbf7f1",
   "metadata": {},
   "outputs": [
    {
     "name": "stderr",
     "output_type": "stream",
     "text": [
      "C:\\Users\\jjel0\\AppData\\Local\\Temp\\ipykernel_35000\\4027220945.py:5: SettingWithCopyWarning: \n",
      "A value is trying to be set on a copy of a slice from a DataFrame.\n",
      "Try using .loc[row_indexer,col_indexer] = value instead\n",
      "\n",
      "See the caveats in the documentation: https://pandas.pydata.org/pandas-docs/stable/user_guide/indexing.html#returning-a-view-versus-a-copy\n",
      "  inverse_hammer_df['Date'] = pd.to_datetime(inverse_hammer_df['Date'])  # Ensure the column is in datetime format\n"
     ]
    },
    {
     "data": {
      "image/png": "[encoded data removed]",
      "text/plain": [
       "<Figure size 800x575 with 4 Axes>"
      ]
     },
     "metadata": {},
     "output_type": "display_data"
    }
   ],
   "source": [
    "low_value = int(target_index) - int(subtract_from)\n",
    "high_value = int(target_index) + int(add_to)\n",
    "inverse_hammer_df = data.iloc[low_value:high_value]\n",
    "\n",
    "inverse_hammer_df['Date'] = pd.to_datetime(inverse_hammer_df['Date'])  # Ensure the column is in datetime format\n",
    "inverse_hammer_df.set_index('Date', inplace=True)       # Set the column as the DataFrame index\n",
    "\n",
    "# Create a candlestick chart\n",
    "mpf.plot(inverse_hammer_df, type='candle', volume=True)"
   ]
  },
  {
   "cell_type": "markdown",
   "id": "36b01846-3ae0-40d3-a8a5-e8e0bab8731e",
   "metadata": {},
   "source": [
    "## Piercing Pattern"
   ]
  },
  {
   "cell_type": "code",
   "execution_count": 16,
   "id": "97c4c1b7-06c1-4103-855f-b425497c92c8",
   "metadata": {},
   "outputs": [
    {
     "data": {
      "text/html": [
       "<div>\n",
       "<style scoped>\n",
       "    .dataframe tbody tr th:only-of-type {\n",
       "        vertical-align: middle;\n",
       "    }\n",
       "\n",
       "    .dataframe tbody tr th {\n",
       "        vertical-align: top;\n",
       "    }\n",
       "\n",
       "    .dataframe thead th {\n",
       "        text-align: right;\n",
       "    }\n",
       "</style>\n",
       "<table border=\"1\" class=\"dataframe\">\n",
       "  <thead>\n",
       "    <tr style=\"text-align: right;\">\n",
       "      <th></th>\n",
       "      <th>Date</th>\n",
       "      <th>Open</th>\n",
       "      <th>High</th>\n",
       "      <th>Low</th>\n",
       "      <th>Close</th>\n",
       "      <th>Volume</th>\n",
       "      <th>engulfing</th>\n",
       "      <th>hammer</th>\n",
       "      <th>inverse_hammer</th>\n",
       "      <th>piercing</th>\n",
       "    </tr>\n",
       "  </thead>\n",
       "  <tbody>\n",
       "    <tr>\n",
       "      <th>303</th>\n",
       "      <td>6/15/2023</td>\n",
       "      <td>436.330</td>\n",
       "      <td>443.90</td>\n",
       "      <td>436.230</td>\n",
       "      <td>442.60</td>\n",
       "      <td>110303100</td>\n",
       "      <td>0</td>\n",
       "      <td>0</td>\n",
       "      <td>0</td>\n",
       "      <td>100</td>\n",
       "    </tr>\n",
       "    <tr>\n",
       "      <th>471</th>\n",
       "      <td>10/13/2022</td>\n",
       "      <td>349.205</td>\n",
       "      <td>367.51</td>\n",
       "      <td>348.110</td>\n",
       "      <td>365.97</td>\n",
       "      <td>147254500</td>\n",
       "      <td>0</td>\n",
       "      <td>0</td>\n",
       "      <td>0</td>\n",
       "      <td>100</td>\n",
       "    </tr>\n",
       "    <tr>\n",
       "      <th>679</th>\n",
       "      <td>12/15/2021</td>\n",
       "      <td>463.420</td>\n",
       "      <td>470.86</td>\n",
       "      <td>460.740</td>\n",
       "      <td>470.60</td>\n",
       "      <td>116899300</td>\n",
       "      <td>0</td>\n",
       "      <td>0</td>\n",
       "      <td>0</td>\n",
       "      <td>100</td>\n",
       "    </tr>\n",
       "    <tr>\n",
       "      <th>877</th>\n",
       "      <td>3/5/2021</td>\n",
       "      <td>380.460</td>\n",
       "      <td>384.76</td>\n",
       "      <td>372.640</td>\n",
       "      <td>383.63</td>\n",
       "      <td>152039600</td>\n",
       "      <td>0</td>\n",
       "      <td>0</td>\n",
       "      <td>0</td>\n",
       "      <td>100</td>\n",
       "    </tr>\n",
       "    <tr>\n",
       "      <th>881</th>\n",
       "      <td>3/1/2021</td>\n",
       "      <td>385.590</td>\n",
       "      <td>390.92</td>\n",
       "      <td>380.572</td>\n",
       "      <td>389.58</td>\n",
       "      <td>105348800</td>\n",
       "      <td>0</td>\n",
       "      <td>0</td>\n",
       "      <td>0</td>\n",
       "      <td>100</td>\n",
       "    </tr>\n",
       "    <tr>\n",
       "      <th>2407</th>\n",
       "      <td>2/5/2015</td>\n",
       "      <td>204.860</td>\n",
       "      <td>206.30</td>\n",
       "      <td>204.770</td>\n",
       "      <td>206.12</td>\n",
       "      <td>97236260</td>\n",
       "      <td>0</td>\n",
       "      <td>0</td>\n",
       "      <td>0</td>\n",
       "      <td>100</td>\n",
       "    </tr>\n",
       "    <tr>\n",
       "      <th>2480</th>\n",
       "      <td>10/21/2014</td>\n",
       "      <td>191.680</td>\n",
       "      <td>194.20</td>\n",
       "      <td>191.480</td>\n",
       "      <td>194.07</td>\n",
       "      <td>153368100</td>\n",
       "      <td>0</td>\n",
       "      <td>0</td>\n",
       "      <td>0</td>\n",
       "      <td>100</td>\n",
       "    </tr>\n",
       "  </tbody>\n",
       "</table>\n",
       "</div>"
      ],
      "text/plain": [
       "            Date     Open    High      Low   Close     Volume  engulfing  \\\n",
       "303    6/15/2023  436.330  443.90  436.230  442.60  110303100          0   \n",
       "471   10/13/2022  349.205  367.51  348.110  365.97  147254500          0   \n",
       "679   12/15/2021  463.420  470.86  460.740  470.60  116899300          0   \n",
       "877     3/5/2021  380.460  384.76  372.640  383.63  152039600          0   \n",
       "881     3/1/2021  385.590  390.92  380.572  389.58  105348800          0   \n",
       "2407    2/5/2015  204.860  206.30  204.770  206.12   97236260          0   \n",
       "2480  10/21/2014  191.680  194.20  191.480  194.07  153368100          0   \n",
       "\n",
       "      hammer  inverse_hammer  piercing  \n",
       "303        0               0       100  \n",
       "471        0               0       100  \n",
       "679        0               0       100  \n",
       "877        0               0       100  \n",
       "881        0               0       100  \n",
       "2407       0               0       100  \n",
       "2480       0               0       100  "
      ]
     },
     "execution_count": 16,
     "metadata": {},
     "output_type": "execute_result"
    }
   ],
   "source": [
    "# Detect a piercing pattern\n",
    "data['piercing'] = talib.CDLPIERCING(data['Open'], data['High'], data['Low'], data['Close'])\n",
    "\n",
    "# Get the dates where the piercing pattern occurred\n",
    "piercing_dates = data[data['piercing'] == 100].index\n",
    "\n",
    "data[data['piercing'] == 100]"
   ]
  },
  {
   "cell_type": "code",
   "execution_count": 17,
   "id": "db465e3b-07d6-4661-91a2-bd541ddca7b7",
   "metadata": {},
   "outputs": [
    {
     "name": "stdout",
     "output_type": "stream",
     "text": [
      "[303, 471, 679, 877, 881, 2407, 2480]\n"
     ]
    }
   ],
   "source": [
    "# Get the index values\n",
    "piercing_index_values = np.where(data['piercing'] == 100)[0].tolist()\n",
    "\n",
    "print(piercing_index_values)"
   ]
  },
  {
   "cell_type": "code",
   "execution_count": 18,
   "id": "cad262b3-0caf-42e5-b49f-ba6b62904e4c",
   "metadata": {},
   "outputs": [
    {
     "name": "stdin",
     "output_type": "stream",
     "text": [
      "Enter target index:  2407\n",
      "Enter amount to subtract from target index:  2\n",
      "Enter amount to add to target index:  10\n"
     ]
    }
   ],
   "source": [
    "target_index = input(\"Enter target index: \")\n",
    "subtract_from = input(\"Enter amount to subtract from target index: \")\n",
    "add_to = input(\"Enter amount to add to target index: \")"
   ]
  },
  {
   "cell_type": "code",
   "execution_count": 19,
   "id": "754117fa-481b-44ab-a386-9db1099ed406",
   "metadata": {},
   "outputs": [
    {
     "name": "stderr",
     "output_type": "stream",
     "text": [
      "C:\\Users\\jjel0\\AppData\\Local\\Temp\\ipykernel_35000\\4150618594.py:5: SettingWithCopyWarning: \n",
      "A value is trying to be set on a copy of a slice from a DataFrame.\n",
      "Try using .loc[row_indexer,col_indexer] = value instead\n",
      "\n",
      "See the caveats in the documentation: https://pandas.pydata.org/pandas-docs/stable/user_guide/indexing.html#returning-a-view-versus-a-copy\n",
      "  piercing_df['Date'] = pd.to_datetime(piercing_df['Date'])  # Ensure the column is in datetime format\n"
     ]
    },
    {
     "data": {
      "image/png": "[encoded data removed]",
      "text/plain": [
       "<Figure size 800x575 with 4 Axes>"
      ]
     },
     "metadata": {},
     "output_type": "display_data"
    }
   ],
   "source": [
    "low_value = int(target_index) - int(subtract_from)\n",
    "high_value = int(target_index) + int(add_to)\n",
    "piercing_df = data.iloc[low_value:high_value]\n",
    "\n",
    "piercing_df['Date'] = pd.to_datetime(piercing_df['Date'])  # Ensure the column is in datetime format\n",
    "piercing_df.set_index('Date', inplace=True)       # Set the column as the DataFrame index\n",
    "\n",
    "# Create a candlestick chart\n",
    "mpf.plot(piercing_df, type='candle', volume=True)"
   ]
  },
  {
   "cell_type": "markdown",
   "id": "39a832ae-f990-438b-a7b9-31425f64c616",
   "metadata": {},
   "source": [
    "## Morning Star"
   ]
  },
  {
   "cell_type": "code",
   "execution_count": 20,
   "id": "97718340-b518-426e-a4dd-7ca29826864c",
   "metadata": {},
   "outputs": [
    {
     "data": {
      "text/html": [
       "<div>\n",
       "<style scoped>\n",
       "    .dataframe tbody tr th:only-of-type {\n",
       "        vertical-align: middle;\n",
       "    }\n",
       "\n",
       "    .dataframe tbody tr th {\n",
       "        vertical-align: top;\n",
       "    }\n",
       "\n",
       "    .dataframe thead th {\n",
       "        text-align: right;\n",
       "    }\n",
       "</style>\n",
       "<table border=\"1\" class=\"dataframe\">\n",
       "  <thead>\n",
       "    <tr style=\"text-align: right;\">\n",
       "      <th></th>\n",
       "      <th>Date</th>\n",
       "      <th>Open</th>\n",
       "      <th>High</th>\n",
       "      <th>Low</th>\n",
       "      <th>Close</th>\n",
       "      <th>Volume</th>\n",
       "      <th>engulfing</th>\n",
       "      <th>hammer</th>\n",
       "      <th>inverse_hammer</th>\n",
       "      <th>piercing</th>\n",
       "      <th>morning_star</th>\n",
       "    </tr>\n",
       "  </thead>\n",
       "  <tbody>\n",
       "    <tr>\n",
       "      <th>2170</th>\n",
       "      <td>1/14/2016</td>\n",
       "      <td>189.55</td>\n",
       "      <td>193.26</td>\n",
       "      <td>187.66</td>\n",
       "      <td>191.93</td>\n",
       "      <td>239613400</td>\n",
       "      <td>0</td>\n",
       "      <td>0</td>\n",
       "      <td>0</td>\n",
       "      <td>0</td>\n",
       "      <td>100</td>\n",
       "    </tr>\n",
       "  </tbody>\n",
       "</table>\n",
       "</div>"
      ],
      "text/plain": [
       "           Date    Open    High     Low   Close     Volume  engulfing  hammer  \\\n",
       "2170  1/14/2016  189.55  193.26  187.66  191.93  239613400          0       0   \n",
       "\n",
       "      inverse_hammer  piercing  morning_star  \n",
       "2170               0         0           100  "
      ]
     },
     "execution_count": 20,
     "metadata": {},
     "output_type": "execute_result"
    }
   ],
   "source": [
    "# Detect a morning star pattern\n",
    "data['morning_star'] = talib.CDLMORNINGSTAR(data['Open'], data['High'], data['Low'], data['Close'])\n",
    "\n",
    "# Get the dates where the morning star pattern occurred\n",
    "morning_star_dates = data[data['morning_star'] == 100].index\n",
    "\n",
    "data[data['morning_star'] == 100]"
   ]
  },
  {
   "cell_type": "code",
   "execution_count": 21,
   "id": "ed2f9ad2-8a5d-4d99-a554-086a29c1cad4",
   "metadata": {},
   "outputs": [
    {
     "name": "stdout",
     "output_type": "stream",
     "text": [
      "[2170]\n"
     ]
    }
   ],
   "source": [
    "# Get the index values\n",
    "morning_star_index_values = np.where(data['morning_star'] == 100)[0].tolist()\n",
    "\n",
    "print(morning_star_index_values)"
   ]
  },
  {
   "cell_type": "code",
   "execution_count": 22,
   "id": "4404fc25-61f9-4ae2-8825-70090fd004f6",
   "metadata": {},
   "outputs": [
    {
     "name": "stdin",
     "output_type": "stream",
     "text": [
      "Enter target index:  2170\n",
      "Enter amount to subtract from target index:  2\n",
      "Enter amount to add to target index:  10\n"
     ]
    }
   ],
   "source": [
    "target_index = input(\"Enter target index: \")\n",
    "subtract_from = input(\"Enter amount to subtract from target index: \")\n",
    "add_to = input(\"Enter amount to add to target index: \")"
   ]
  },
  {
   "cell_type": "code",
   "execution_count": 23,
   "id": "f7ce8510-6cf4-4baa-a8d1-8edb1d1f1139",
   "metadata": {},
   "outputs": [
    {
     "name": "stderr",
     "output_type": "stream",
     "text": [
      "C:\\Users\\jjel0\\AppData\\Local\\Temp\\ipykernel_35000\\970771053.py:5: SettingWithCopyWarning: \n",
      "A value is trying to be set on a copy of a slice from a DataFrame.\n",
      "Try using .loc[row_indexer,col_indexer] = value instead\n",
      "\n",
      "See the caveats in the documentation: https://pandas.pydata.org/pandas-docs/stable/user_guide/indexing.html#returning-a-view-versus-a-copy\n",
      "  morning_star_df['Date'] = pd.to_datetime(morning_star_df['Date'])  # Ensure the column is in datetime format\n"
     ]
    },
    {
     "data": {
      "image/png": "[encoded data removed]",
      "text/plain": [
       "<Figure size 800x575 with 4 Axes>"
      ]
     },
     "metadata": {},
     "output_type": "display_data"
    }
   ],
   "source": [
    "low_value = int(target_index) - int(subtract_from)\n",
    "high_value = int(target_index) + int(add_to)\n",
    "morning_star_df = data.iloc[low_value:high_value]\n",
    "\n",
    "morning_star_df['Date'] = pd.to_datetime(morning_star_df['Date'])  # Ensure the column is in datetime format\n",
    "morning_star_df.set_index('Date', inplace=True)       # Set the column as the DataFrame index\n",
    "\n",
    "# Create a candlestick chart\n",
    "mpf.plot(morning_star_df, type='candle', volume=True)"
   ]
  },
  {
   "cell_type": "markdown",
   "id": "bf69a098-51e7-4d01-8f4e-84edc319bf4f",
   "metadata": {},
   "source": [
    "## Three Advancing White Soldiers"
   ]
  },
  {
   "cell_type": "code",
   "execution_count": 24,
   "id": "e74d243e-f97c-43c3-88ba-c6b3a81a800e",
   "metadata": {},
   "outputs": [
    {
     "data": {
      "text/html": [
       "<div>\n",
       "<style scoped>\n",
       "    .dataframe tbody tr th:only-of-type {\n",
       "        vertical-align: middle;\n",
       "    }\n",
       "\n",
       "    .dataframe tbody tr th {\n",
       "        vertical-align: top;\n",
       "    }\n",
       "\n",
       "    .dataframe thead th {\n",
       "        text-align: right;\n",
       "    }\n",
       "</style>\n",
       "<table border=\"1\" class=\"dataframe\">\n",
       "  <thead>\n",
       "    <tr style=\"text-align: right;\">\n",
       "      <th></th>\n",
       "      <th>Date</th>\n",
       "      <th>Open</th>\n",
       "      <th>High</th>\n",
       "      <th>Low</th>\n",
       "      <th>Close</th>\n",
       "      <th>Volume</th>\n",
       "      <th>engulfing</th>\n",
       "      <th>hammer</th>\n",
       "      <th>inverse_hammer</th>\n",
       "      <th>piercing</th>\n",
       "      <th>morning_star</th>\n",
       "      <th>3adv_white_soldiers</th>\n",
       "    </tr>\n",
       "  </thead>\n",
       "  <tbody>\n",
       "  </tbody>\n",
       "</table>\n",
       "</div>"
      ],
      "text/plain": [
       "Empty DataFrame\n",
       "Columns: [Date, Open, High, Low, Close, Volume, engulfing, hammer, inverse_hammer, piercing, morning_star, 3adv_white_soldiers]\n",
       "Index: []"
      ]
     },
     "execution_count": 24,
     "metadata": {},
     "output_type": "execute_result"
    }
   ],
   "source": [
    "# Detect a three advancing white soldiers pattern\n",
    "data['3adv_white_soldiers'] = talib.CDL3WHITESOLDIERS(data['Open'], data['High'], data['Low'], data['Close'])\n",
    "\n",
    "# Get the dates where the three advancing white soldiers pattern occurred\n",
    "three_adv_white_soldiers_dates = data[data['3adv_white_soldiers'] == 100].index\n",
    "\n",
    "data[data['3adv_white_soldiers'] == 100]"
   ]
  },
  {
   "cell_type": "code",
   "execution_count": 25,
   "id": "85fb79a2-9754-44e6-82b8-0f1af09bee69",
   "metadata": {},
   "outputs": [
    {
     "name": "stdout",
     "output_type": "stream",
     "text": [
      "[]\n"
     ]
    }
   ],
   "source": [
    "# Get the index values\n",
    "three_adv_white_soldiers_index_values = np.where(data['3adv_white_soldiers'] == 100)[0].tolist()\n",
    "\n",
    "print(three_adv_white_soldiers_index_values)"
   ]
  },
  {
   "cell_type": "code",
   "execution_count": 26,
   "id": "867bbfc5-bcef-4e6a-b66e-d08a19fea93a",
   "metadata": {},
   "outputs": [
    {
     "name": "stdin",
     "output_type": "stream",
     "text": [
      "Enter target index:  1\n",
      "Enter amount to subtract from target index:  1\n",
      "Enter amount to add to target index:  1\n"
     ]
    }
   ],
   "source": [
    "target_index = input(\"Enter target index: \")\n",
    "subtract_from = input(\"Enter amount to subtract from target index: \")\n",
    "add_to = input(\"Enter amount to add to target index: \")"
   ]
  },
  {
   "cell_type": "code",
   "execution_count": 27,
   "id": "c4850a3b-610d-42ac-80b6-3ca171054f06",
   "metadata": {},
   "outputs": [
    {
     "name": "stderr",
     "output_type": "stream",
     "text": [
      "C:\\Users\\jjel0\\AppData\\Local\\Temp\\ipykernel_35000\\1690260306.py:5: SettingWithCopyWarning: \n",
      "A value is trying to be set on a copy of a slice from a DataFrame.\n",
      "Try using .loc[row_indexer,col_indexer] = value instead\n",
      "\n",
      "See the caveats in the documentation: https://pandas.pydata.org/pandas-docs/stable/user_guide/indexing.html#returning-a-view-versus-a-copy\n",
      "  three_adv_white_soldiers_df['Date'] = pd.to_datetime(three_adv_white_soldiers_df['Date'])  # Ensure the column is in datetime format\n"
     ]
    },
    {
     "data": {
      "image/png": "[encoded data removed]",
      "text/plain": [
       "<Figure size 800x575 with 4 Axes>"
      ]
     },
     "metadata": {},
     "output_type": "display_data"
    }
   ],
   "source": [
    "low_value = int(target_index) - int(subtract_from)\n",
    "high_value = int(target_index) + int(add_to)\n",
    "three_adv_white_soldiers_df = data.iloc[low_value:high_value]\n",
    "\n",
    "three_adv_white_soldiers_df['Date'] = pd.to_datetime(three_adv_white_soldiers_df['Date'])  # Ensure the column is in datetime format\n",
    "three_adv_white_soldiers_df.set_index('Date', inplace=True)       # Set the column as the DataFrame index\n",
    "\n",
    "# Create a candlestick chart\n",
    "mpf.plot(three_adv_white_soldiers_df, type='candle', volume=True)"
   ]
  },
  {
   "cell_type": "markdown",
   "id": "ecd9193d-0dd5-42a8-9efc-f753cf13f2bf",
   "metadata": {},
   "source": [
    "## Hanging Man"
   ]
  },
  {
   "cell_type": "code",
   "execution_count": 28,
   "id": "b730840b-e57d-4131-8b13-8bcb20a3018c",
   "metadata": {},
   "outputs": [
    {
     "data": {
      "text/html": [
       "<div>\n",
       "<style scoped>\n",
       "    .dataframe tbody tr th:only-of-type {\n",
       "        vertical-align: middle;\n",
       "    }\n",
       "\n",
       "    .dataframe tbody tr th {\n",
       "        vertical-align: top;\n",
       "    }\n",
       "\n",
       "    .dataframe thead th {\n",
       "        text-align: right;\n",
       "    }\n",
       "</style>\n",
       "<table border=\"1\" class=\"dataframe\">\n",
       "  <thead>\n",
       "    <tr style=\"text-align: right;\">\n",
       "      <th></th>\n",
       "      <th>Date</th>\n",
       "      <th>Open</th>\n",
       "      <th>High</th>\n",
       "      <th>Low</th>\n",
       "      <th>Close</th>\n",
       "      <th>Volume</th>\n",
       "      <th>engulfing</th>\n",
       "      <th>hammer</th>\n",
       "      <th>inverse_hammer</th>\n",
       "      <th>piercing</th>\n",
       "      <th>morning_star</th>\n",
       "      <th>3adv_white_soldiers</th>\n",
       "      <th>hanging_man</th>\n",
       "    </tr>\n",
       "  </thead>\n",
       "  <tbody>\n",
       "  </tbody>\n",
       "</table>\n",
       "</div>"
      ],
      "text/plain": [
       "Empty DataFrame\n",
       "Columns: [Date, Open, High, Low, Close, Volume, engulfing, hammer, inverse_hammer, piercing, morning_star, 3adv_white_soldiers, hanging_man]\n",
       "Index: []"
      ]
     },
     "execution_count": 28,
     "metadata": {},
     "output_type": "execute_result"
    }
   ],
   "source": [
    "# Detect a hanging man pattern\n",
    "data['hanging_man'] = talib.CDLHANGINGMAN(data['Open'], data['High'], data['Low'], data['Close'])\n",
    "\n",
    "# Get the dates where the hanging man pattern occurred\n",
    "hanging_man_dates = data[data['hanging_man'] == 100].index\n",
    "\n",
    "data[data['hanging_man'] == 100]"
   ]
  },
  {
   "cell_type": "code",
   "execution_count": 29,
   "id": "e9dc83fa-aa70-4b5b-bc37-cb021750a48b",
   "metadata": {},
   "outputs": [
    {
     "name": "stdout",
     "output_type": "stream",
     "text": [
      "[]\n"
     ]
    }
   ],
   "source": [
    "# Get the index values\n",
    "hanging_man_index_values = np.where(data['hanging_man'] == 100)[0].tolist()\n",
    "\n",
    "print(hanging_man_index_values)"
   ]
  },
  {
   "cell_type": "code",
   "execution_count": 30,
   "id": "09f719d5-d972-4622-87af-528ba48f4d27",
   "metadata": {},
   "outputs": [
    {
     "name": "stdin",
     "output_type": "stream",
     "text": [
      "Enter target index:  1\n",
      "Enter amount to subtract from target index:  1\n",
      "Enter amount to add to target index:  1\n"
     ]
    }
   ],
   "source": [
    "target_index = input(\"Enter target index: \")\n",
    "subtract_from = input(\"Enter amount to subtract from target index: \")\n",
    "add_to = input(\"Enter amount to add to target index: \")"
   ]
  },
  {
   "cell_type": "code",
   "execution_count": 31,
   "id": "eb189eff-3d34-46f1-90b2-d530513cd2cf",
   "metadata": {},
   "outputs": [
    {
     "name": "stderr",
     "output_type": "stream",
     "text": [
      "C:\\Users\\jjel0\\AppData\\Local\\Temp\\ipykernel_35000\\2515793326.py:5: SettingWithCopyWarning: \n",
      "A value is trying to be set on a copy of a slice from a DataFrame.\n",
      "Try using .loc[row_indexer,col_indexer] = value instead\n",
      "\n",
      "See the caveats in the documentation: https://pandas.pydata.org/pandas-docs/stable/user_guide/indexing.html#returning-a-view-versus-a-copy\n",
      "  hanging_man_df['Date'] = pd.to_datetime(hanging_man_df['Date'])  # Ensure the column is in datetime format\n"
     ]
    },
    {
     "data": {
      "image/png": "[encoded data removed]",
      "text/plain": [
       "<Figure size 800x575 with 4 Axes>"
      ]
     },
     "metadata": {},
     "output_type": "display_data"
    }
   ],
   "source": [
    "low_value = int(target_index) - int(subtract_from)\n",
    "high_value = int(target_index) + int(add_to)\n",
    "hanging_man_df = data.iloc[low_value:high_value]\n",
    "\n",
    "hanging_man_df['Date'] = pd.to_datetime(hanging_man_df['Date'])  # Ensure the column is in datetime format\n",
    "hanging_man_df.set_index('Date', inplace=True)       # Set the column as the DataFrame index\n",
    "\n",
    "# Create a candlestick chart\n",
    "mpf.plot(hanging_man_df, type='candle', volume=True)"
   ]
  },
  {
   "cell_type": "markdown",
   "id": "96c440d4-1a52-46c6-bae5-b72dce0a32ec",
   "metadata": {},
   "source": [
    "## Shooting Star"
   ]
  },
  {
   "cell_type": "code",
   "execution_count": 32,
   "id": "6e413053-b0e7-40be-98ca-9ff41a3acdc9",
   "metadata": {},
   "outputs": [
    {
     "data": {
      "text/html": [
       "<div>\n",
       "<style scoped>\n",
       "    .dataframe tbody tr th:only-of-type {\n",
       "        vertical-align: middle;\n",
       "    }\n",
       "\n",
       "    .dataframe tbody tr th {\n",
       "        vertical-align: top;\n",
       "    }\n",
       "\n",
       "    .dataframe thead th {\n",
       "        text-align: right;\n",
       "    }\n",
       "</style>\n",
       "<table border=\"1\" class=\"dataframe\">\n",
       "  <thead>\n",
       "    <tr style=\"text-align: right;\">\n",
       "      <th></th>\n",
       "      <th>Date</th>\n",
       "      <th>Open</th>\n",
       "      <th>High</th>\n",
       "      <th>Low</th>\n",
       "      <th>Close</th>\n",
       "      <th>Volume</th>\n",
       "      <th>engulfing</th>\n",
       "      <th>hammer</th>\n",
       "      <th>inverse_hammer</th>\n",
       "      <th>piercing</th>\n",
       "      <th>morning_star</th>\n",
       "      <th>3adv_white_soldiers</th>\n",
       "      <th>hanging_man</th>\n",
       "      <th>shooting_star</th>\n",
       "    </tr>\n",
       "  </thead>\n",
       "  <tbody>\n",
       "  </tbody>\n",
       "</table>\n",
       "</div>"
      ],
      "text/plain": [
       "Empty DataFrame\n",
       "Columns: [Date, Open, High, Low, Close, Volume, engulfing, hammer, inverse_hammer, piercing, morning_star, 3adv_white_soldiers, hanging_man, shooting_star]\n",
       "Index: []"
      ]
     },
     "execution_count": 32,
     "metadata": {},
     "output_type": "execute_result"
    }
   ],
   "source": [
    "# Detect a shooting star pattern\n",
    "data['shooting_star'] = talib.CDLSHOOTINGSTAR(data['Open'], data['High'], data['Low'], data['Close'])\n",
    "\n",
    "# Get the dates where the shooting star pattern occurred\n",
    "shooting_star_dates = data[data['shooting_star'] == 100].index\n",
    "\n",
    "data[data['shooting_star'] == 100]"
   ]
  },
  {
   "cell_type": "code",
   "execution_count": 33,
   "id": "e390177c-fab6-4b6a-930f-87750c2152ba",
   "metadata": {},
   "outputs": [
    {
     "name": "stdout",
     "output_type": "stream",
     "text": [
      "[]\n"
     ]
    }
   ],
   "source": [
    "# Get the index values\n",
    "shooting_star_index_values = np.where(data['shooting_star'] == 100)[0].tolist()\n",
    "\n",
    "print(shooting_star_index_values)"
   ]
  },
  {
   "cell_type": "code",
   "execution_count": 34,
   "id": "8215de0d-2cc8-43ec-9382-6b258714e236",
   "metadata": {},
   "outputs": [
    {
     "name": "stdin",
     "output_type": "stream",
     "text": [
      "Enter target index:  1\n",
      "Enter amount to subtract from target index:  1\n",
      "Enter amount to add to target index:  1\n"
     ]
    }
   ],
   "source": [
    "target_index = input(\"Enter target index: \")\n",
    "subtract_from = input(\"Enter amount to subtract from target index: \")\n",
    "add_to = input(\"Enter amount to add to target index: \")"
   ]
  },
  {
   "cell_type": "code",
   "execution_count": 35,
   "id": "e297aab1-34e7-4bd0-ab5e-c7521b1a2065",
   "metadata": {},
   "outputs": [
    {
     "name": "stderr",
     "output_type": "stream",
     "text": [
      "C:\\Users\\jjel0\\AppData\\Local\\Temp\\ipykernel_35000\\4011686296.py:5: SettingWithCopyWarning: \n",
      "A value is trying to be set on a copy of a slice from a DataFrame.\n",
      "Try using .loc[row_indexer,col_indexer] = value instead\n",
      "\n",
      "See the caveats in the documentation: https://pandas.pydata.org/pandas-docs/stable/user_guide/indexing.html#returning-a-view-versus-a-copy\n",
      "  shooting_star_df['Date'] = pd.to_datetime(shooting_star_df['Date'])  # Ensure the column is in datetime format\n"
     ]
    },
    {
     "data": {
      "image/png": "[encoded data removed]",
      "text/plain": [
       "<Figure size 800x575 with 4 Axes>"
      ]
     },
     "metadata": {},
     "output_type": "display_data"
    }
   ],
   "source": [
    "low_value = int(target_index) - int(subtract_from)\n",
    "high_value = int(target_index) + int(add_to)\n",
    "shooting_star_df = data.iloc[low_value:high_value]\n",
    "\n",
    "shooting_star_df['Date'] = pd.to_datetime(shooting_star_df['Date'])  # Ensure the column is in datetime format\n",
    "shooting_star_df.set_index('Date', inplace=True)       # Set the column as the DataFrame index\n",
    "\n",
    "# Create a candlestick chart\n",
    "mpf.plot(shooting_star_df, type='candle', volume=True)"
   ]
  },
  {
   "cell_type": "markdown",
   "id": "0147c380-b9a6-45e9-8e55-0459401e0753",
   "metadata": {},
   "source": [
    "## Evening Star"
   ]
  },
  {
   "cell_type": "code",
   "execution_count": 36,
   "id": "b771b4ba-9efb-4745-ba70-9066f0e60598",
   "metadata": {},
   "outputs": [
    {
     "data": {
      "text/html": [
       "<div>\n",
       "<style scoped>\n",
       "    .dataframe tbody tr th:only-of-type {\n",
       "        vertical-align: middle;\n",
       "    }\n",
       "\n",
       "    .dataframe tbody tr th {\n",
       "        vertical-align: top;\n",
       "    }\n",
       "\n",
       "    .dataframe thead th {\n",
       "        text-align: right;\n",
       "    }\n",
       "</style>\n",
       "<table border=\"1\" class=\"dataframe\">\n",
       "  <thead>\n",
       "    <tr style=\"text-align: right;\">\n",
       "      <th></th>\n",
       "      <th>Date</th>\n",
       "      <th>Open</th>\n",
       "      <th>High</th>\n",
       "      <th>Low</th>\n",
       "      <th>Close</th>\n",
       "      <th>Volume</th>\n",
       "      <th>engulfing</th>\n",
       "      <th>hammer</th>\n",
       "      <th>inverse_hammer</th>\n",
       "      <th>piercing</th>\n",
       "      <th>morning_star</th>\n",
       "      <th>3adv_white_soldiers</th>\n",
       "      <th>hanging_man</th>\n",
       "      <th>shooting_star</th>\n",
       "      <th>evening_star</th>\n",
       "    </tr>\n",
       "  </thead>\n",
       "  <tbody>\n",
       "  </tbody>\n",
       "</table>\n",
       "</div>"
      ],
      "text/plain": [
       "Empty DataFrame\n",
       "Columns: [Date, Open, High, Low, Close, Volume, engulfing, hammer, inverse_hammer, piercing, morning_star, 3adv_white_soldiers, hanging_man, shooting_star, evening_star]\n",
       "Index: []"
      ]
     },
     "execution_count": 36,
     "metadata": {},
     "output_type": "execute_result"
    }
   ],
   "source": [
    "# Detect an evening star pattern\n",
    "data['evening_star'] = talib.CDLEVENINGSTAR(data['Open'], data['High'], data['Low'], data['Close'])\n",
    "\n",
    "# Get the dates where the evening star pattern occurred\n",
    "evening_star_dates = data[data['evening_star'] == 100].index\n",
    "\n",
    "data[data['evening_star'] == 100]"
   ]
  },
  {
   "cell_type": "code",
   "execution_count": 37,
   "id": "bb6343e3-b372-40b4-8b7f-b507134ba3dd",
   "metadata": {},
   "outputs": [
    {
     "name": "stdout",
     "output_type": "stream",
     "text": [
      "[]\n"
     ]
    }
   ],
   "source": [
    "# Get the index values\n",
    "evening_star_index_values = np.where(data['evening_star'] == 100)[0].tolist()\n",
    "\n",
    "print(evening_star_index_values)"
   ]
  },
  {
   "cell_type": "code",
   "execution_count": 38,
   "id": "e8d3028c-59ff-4178-9dc1-be676b0d5f43",
   "metadata": {},
   "outputs": [
    {
     "name": "stdin",
     "output_type": "stream",
     "text": [
      "Enter target index:  1\n",
      "Enter amount to subtract from target index:  1\n",
      "Enter amount to add to target index:  1\n"
     ]
    }
   ],
   "source": [
    "target_index = input(\"Enter target index: \")\n",
    "subtract_from = input(\"Enter amount to subtract from target index: \")\n",
    "add_to = input(\"Enter amount to add to target index: \")"
   ]
  },
  {
   "cell_type": "code",
   "execution_count": 39,
   "id": "7f257e00-d911-4d38-9e0e-384523cf7b7b",
   "metadata": {},
   "outputs": [
    {
     "name": "stderr",
     "output_type": "stream",
     "text": [
      "C:\\Users\\jjel0\\AppData\\Local\\Temp\\ipykernel_35000\\1820039369.py:5: SettingWithCopyWarning: \n",
      "A value is trying to be set on a copy of a slice from a DataFrame.\n",
      "Try using .loc[row_indexer,col_indexer] = value instead\n",
      "\n",
      "See the caveats in the documentation: https://pandas.pydata.org/pandas-docs/stable/user_guide/indexing.html#returning-a-view-versus-a-copy\n",
      "  evening_star_df['Date'] = pd.to_datetime(evening_star_df['Date'])  # Ensure the column is in datetime format\n"
     ]
    },
    {
     "data": {
      "image/png": "[encoded data removed]",
      "text/plain": [
       "<Figure size 800x575 with 4 Axes>"
      ]
     },
     "metadata": {},
     "output_type": "display_data"
    }
   ],
   "source": [
    "low_value = int(target_index) - int(subtract_from)\n",
    "high_value = int(target_index) + int(add_to)\n",
    "evening_star_df = data.iloc[low_value:high_value]\n",
    "\n",
    "evening_star_df['Date'] = pd.to_datetime(evening_star_df['Date'])  # Ensure the column is in datetime format\n",
    "evening_star_df.set_index('Date', inplace=True)       # Set the column as the DataFrame index\n",
    "\n",
    "# Create a candlestick chart\n",
    "mpf.plot(evening_star_df, type='candle', volume=True)"
   ]
  },
  {
   "cell_type": "markdown",
   "id": "e1805d64-b60f-4083-8f79-80f78860c3b2",
   "metadata": {},
   "source": [
    "## Evening Doji Star"
   ]
  },
  {
   "cell_type": "code",
   "execution_count": 40,
   "id": "f14e290a-5929-415c-8486-971a54db3a6b",
   "metadata": {},
   "outputs": [
    {
     "data": {
      "text/html": [
       "<div>\n",
       "<style scoped>\n",
       "    .dataframe tbody tr th:only-of-type {\n",
       "        vertical-align: middle;\n",
       "    }\n",
       "\n",
       "    .dataframe tbody tr th {\n",
       "        vertical-align: top;\n",
       "    }\n",
       "\n",
       "    .dataframe thead th {\n",
       "        text-align: right;\n",
       "    }\n",
       "</style>\n",
       "<table border=\"1\" class=\"dataframe\">\n",
       "  <thead>\n",
       "    <tr style=\"text-align: right;\">\n",
       "      <th></th>\n",
       "      <th>Date</th>\n",
       "      <th>Open</th>\n",
       "      <th>High</th>\n",
       "      <th>Low</th>\n",
       "      <th>Close</th>\n",
       "      <th>Volume</th>\n",
       "      <th>engulfing</th>\n",
       "      <th>hammer</th>\n",
       "      <th>inverse_hammer</th>\n",
       "      <th>piercing</th>\n",
       "      <th>morning_star</th>\n",
       "      <th>3adv_white_soldiers</th>\n",
       "      <th>hanging_man</th>\n",
       "      <th>shooting_star</th>\n",
       "      <th>evening_star</th>\n",
       "      <th>evening_doji_star</th>\n",
       "    </tr>\n",
       "  </thead>\n",
       "  <tbody>\n",
       "  </tbody>\n",
       "</table>\n",
       "</div>"
      ],
      "text/plain": [
       "Empty DataFrame\n",
       "Columns: [Date, Open, High, Low, Close, Volume, engulfing, hammer, inverse_hammer, piercing, morning_star, 3adv_white_soldiers, hanging_man, shooting_star, evening_star, evening_doji_star]\n",
       "Index: []"
      ]
     },
     "execution_count": 40,
     "metadata": {},
     "output_type": "execute_result"
    }
   ],
   "source": [
    "# Detect an evening doji star pattern\n",
    "data['evening_doji_star'] = talib.CDLEVENINGDOJISTAR(data['Open'], data['High'], data['Low'], data['Close'])\n",
    "\n",
    "# Get the dates where the evening doji star pattern occurred\n",
    "evening_doji_star_dates = data[data['evening_doji_star'] == 100].index\n",
    "\n",
    "data[data['evening_doji_star'] == 100]"
   ]
  },
  {
   "cell_type": "code",
   "execution_count": 41,
   "id": "5ce583b6-1f1e-4334-9222-ae1460d8461a",
   "metadata": {},
   "outputs": [
    {
     "name": "stdout",
     "output_type": "stream",
     "text": [
      "[]\n"
     ]
    }
   ],
   "source": [
    "# Get the index values\n",
    "evening_doji_star_index_values = np.where(data['evening_doji_star'] == 100)[0].tolist()\n",
    "\n",
    "print(evening_doji_star_index_values)"
   ]
  },
  {
   "cell_type": "code",
   "execution_count": 42,
   "id": "e06e5ace-62a3-4fc9-a23d-5a4f039fa35c",
   "metadata": {},
   "outputs": [
    {
     "name": "stdin",
     "output_type": "stream",
     "text": [
      "Enter target index:  1\n",
      "Enter amount to subtract from target index:  1\n",
      "Enter amount to add to target index:  1\n"
     ]
    }
   ],
   "source": [
    "target_index = input(\"Enter target index: \")\n",
    "subtract_from = input(\"Enter amount to subtract from target index: \")\n",
    "add_to = input(\"Enter amount to add to target index: \")"
   ]
  },
  {
   "cell_type": "code",
   "execution_count": 43,
   "id": "c4f3bb3b-472d-4154-84ce-b59974f99d8a",
   "metadata": {},
   "outputs": [
    {
     "name": "stderr",
     "output_type": "stream",
     "text": [
      "C:\\Users\\jjel0\\AppData\\Local\\Temp\\ipykernel_35000\\3396305443.py:5: SettingWithCopyWarning: \n",
      "A value is trying to be set on a copy of a slice from a DataFrame.\n",
      "Try using .loc[row_indexer,col_indexer] = value instead\n",
      "\n",
      "See the caveats in the documentation: https://pandas.pydata.org/pandas-docs/stable/user_guide/indexing.html#returning-a-view-versus-a-copy\n",
      "  evening_doji_star_df['Date'] = pd.to_datetime(evening_doji_star_df['Date'])  # Ensure the column is in datetime format\n"
     ]
    },
    {
     "data": {
      "image/png": "[encoded data removed]",
      "text/plain": [
       "<Figure size 800x575 with 4 Axes>"
      ]
     },
     "metadata": {},
     "output_type": "display_data"
    }
   ],
   "source": [
    "low_value = int(target_index) - int(subtract_from)\n",
    "high_value = int(target_index) + int(add_to)\n",
    "evening_doji_star_df = data.iloc[low_value:high_value]\n",
    "\n",
    "evening_doji_star_df['Date'] = pd.to_datetime(evening_doji_star_df['Date'])  # Ensure the column is in datetime format\n",
    "evening_doji_star_df.set_index('Date', inplace=True)       # Set the column as the DataFrame index\n",
    "\n",
    "# Create a candlestick chart\n",
    "mpf.plot(evening_doji_star_df, type='candle', volume=True)"
   ]
  },
  {
   "cell_type": "markdown",
   "id": "8d2e95c6-177e-4c99-9cfe-c2bf13a9d104",
   "metadata": {},
   "source": [
    "## Three Black Crows"
   ]
  },
  {
   "cell_type": "code",
   "execution_count": 44,
   "id": "99380c74-e82b-461d-8346-9e6e7fa093b4",
   "metadata": {},
   "outputs": [
    {
     "data": {
      "text/html": [
       "<div>\n",
       "<style scoped>\n",
       "    .dataframe tbody tr th:only-of-type {\n",
       "        vertical-align: middle;\n",
       "    }\n",
       "\n",
       "    .dataframe tbody tr th {\n",
       "        vertical-align: top;\n",
       "    }\n",
       "\n",
       "    .dataframe thead th {\n",
       "        text-align: right;\n",
       "    }\n",
       "</style>\n",
       "<table border=\"1\" class=\"dataframe\">\n",
       "  <thead>\n",
       "    <tr style=\"text-align: right;\">\n",
       "      <th></th>\n",
       "      <th>Date</th>\n",
       "      <th>Open</th>\n",
       "      <th>High</th>\n",
       "      <th>Low</th>\n",
       "      <th>Close</th>\n",
       "      <th>Volume</th>\n",
       "      <th>engulfing</th>\n",
       "      <th>hammer</th>\n",
       "      <th>inverse_hammer</th>\n",
       "      <th>piercing</th>\n",
       "      <th>morning_star</th>\n",
       "      <th>3adv_white_soldiers</th>\n",
       "      <th>hanging_man</th>\n",
       "      <th>shooting_star</th>\n",
       "      <th>evening_star</th>\n",
       "      <th>evening_doji_star</th>\n",
       "      <th>three_black_crows</th>\n",
       "    </tr>\n",
       "  </thead>\n",
       "  <tbody>\n",
       "  </tbody>\n",
       "</table>\n",
       "</div>"
      ],
      "text/plain": [
       "Empty DataFrame\n",
       "Columns: [Date, Open, High, Low, Close, Volume, engulfing, hammer, inverse_hammer, piercing, morning_star, 3adv_white_soldiers, hanging_man, shooting_star, evening_star, evening_doji_star, three_black_crows]\n",
       "Index: []"
      ]
     },
     "execution_count": 44,
     "metadata": {},
     "output_type": "execute_result"
    }
   ],
   "source": [
    "# Detect a three black crows pattern\n",
    "data['three_black_crows'] = talib.CDL3BLACKCROWS(data['Open'], data['High'], data['Low'], data['Close'])\n",
    "\n",
    "# Get the dates where the three black crows pattern occurred\n",
    "three_black_crows_dates = data[data['three_black_crows'] == 100].index\n",
    "\n",
    "data[data['three_black_crows'] == 100]"
   ]
  },
  {
   "cell_type": "code",
   "execution_count": 45,
   "id": "8e99f4af-21dd-48ca-89cf-d35b8aac39af",
   "metadata": {},
   "outputs": [
    {
     "name": "stdout",
     "output_type": "stream",
     "text": [
      "[]\n"
     ]
    }
   ],
   "source": [
    "# Get the index values\n",
    "three_black_crows_index_values = np.where(data['three_black_crows'] == 100)[0].tolist()\n",
    "\n",
    "print(three_black_crows_index_values)"
   ]
  },
  {
   "cell_type": "code",
   "execution_count": 46,
   "id": "1cccc8b3-3848-4eec-84b3-5bf6aa613028",
   "metadata": {},
   "outputs": [
    {
     "name": "stdin",
     "output_type": "stream",
     "text": [
      "Enter target index:  1\n",
      "Enter amount to subtract from target index:  1\n",
      "Enter amount to add to target index:  1\n"
     ]
    }
   ],
   "source": [
    "target_index = input(\"Enter target index: \")\n",
    "subtract_from = input(\"Enter amount to subtract from target index: \")\n",
    "add_to = input(\"Enter amount to add to target index: \")"
   ]
  },
  {
   "cell_type": "code",
   "execution_count": 47,
   "id": "9f124684-c166-4473-9f3e-2b1314491a40",
   "metadata": {},
   "outputs": [
    {
     "name": "stderr",
     "output_type": "stream",
     "text": [
      "C:\\Users\\jjel0\\AppData\\Local\\Temp\\ipykernel_35000\\1152123449.py:5: SettingWithCopyWarning: \n",
      "A value is trying to be set on a copy of a slice from a DataFrame.\n",
      "Try using .loc[row_indexer,col_indexer] = value instead\n",
      "\n",
      "See the caveats in the documentation: https://pandas.pydata.org/pandas-docs/stable/user_guide/indexing.html#returning-a-view-versus-a-copy\n",
      "  three_black_crows_df['Date'] = pd.to_datetime(three_black_crows_df['Date'])  # Ensure the column is in datetime format\n"
     ]
    },
    {
     "data": {
      "image/png": "[encoded data removed]",
      "text/plain": [
       "<Figure size 800x575 with 4 Axes>"
      ]
     },
     "metadata": {},
     "output_type": "display_data"
    }
   ],
   "source": [
    "low_value = int(target_index) - int(subtract_from)\n",
    "high_value = int(target_index) + int(add_to)\n",
    "three_black_crows_df = data.iloc[low_value:high_value]\n",
    "\n",
    "three_black_crows_df['Date'] = pd.to_datetime(three_black_crows_df['Date'])  # Ensure the column is in datetime format\n",
    "three_black_crows_df.set_index('Date', inplace=True)       # Set the column as the DataFrame index\n",
    "\n",
    "# Create a candlestick chart\n",
    "mpf.plot(three_black_crows_df, type='candle', volume=True)"
   ]
  },
  {
   "cell_type": "markdown",
   "id": "1db9b963-9432-49f8-aa09-59f2fd9d91d1",
   "metadata": {},
   "source": [
    "## Dark Cloud Cover"
   ]
  },
  {
   "cell_type": "code",
   "execution_count": 48,
   "id": "b2f7bdcb-6dbc-419d-97ba-c1f242406692",
   "metadata": {},
   "outputs": [
    {
     "data": {
      "text/html": [
       "<div>\n",
       "<style scoped>\n",
       "    .dataframe tbody tr th:only-of-type {\n",
       "        vertical-align: middle;\n",
       "    }\n",
       "\n",
       "    .dataframe tbody tr th {\n",
       "        vertical-align: top;\n",
       "    }\n",
       "\n",
       "    .dataframe thead th {\n",
       "        text-align: right;\n",
       "    }\n",
       "</style>\n",
       "<table border=\"1\" class=\"dataframe\">\n",
       "  <thead>\n",
       "    <tr style=\"text-align: right;\">\n",
       "      <th></th>\n",
       "      <th>Date</th>\n",
       "      <th>Open</th>\n",
       "      <th>High</th>\n",
       "      <th>Low</th>\n",
       "      <th>Close</th>\n",
       "      <th>Volume</th>\n",
       "      <th>engulfing</th>\n",
       "      <th>hammer</th>\n",
       "      <th>inverse_hammer</th>\n",
       "      <th>piercing</th>\n",
       "      <th>morning_star</th>\n",
       "      <th>3adv_white_soldiers</th>\n",
       "      <th>hanging_man</th>\n",
       "      <th>shooting_star</th>\n",
       "      <th>evening_star</th>\n",
       "      <th>evening_doji_star</th>\n",
       "      <th>three_black_crows</th>\n",
       "      <th>dark_cloud_cover</th>\n",
       "    </tr>\n",
       "  </thead>\n",
       "  <tbody>\n",
       "  </tbody>\n",
       "</table>\n",
       "</div>"
      ],
      "text/plain": [
       "Empty DataFrame\n",
       "Columns: [Date, Open, High, Low, Close, Volume, engulfing, hammer, inverse_hammer, piercing, morning_star, 3adv_white_soldiers, hanging_man, shooting_star, evening_star, evening_doji_star, three_black_crows, dark_cloud_cover]\n",
       "Index: []"
      ]
     },
     "execution_count": 48,
     "metadata": {},
     "output_type": "execute_result"
    }
   ],
   "source": [
    "# Detect a dark cloud cover pattern\n",
    "data['dark_cloud_cover'] = talib.CDLDARKCLOUDCOVER(data['Open'], data['High'], data['Low'], data['Close'])\n",
    "\n",
    "# Get the dates where the dark cloud cover pattern occurred\n",
    "dark_cloud_cover_dates = data[data['dark_cloud_cover'] == 100].index\n",
    "\n",
    "data[data['dark_cloud_cover'] == 100]"
   ]
  },
  {
   "cell_type": "code",
   "execution_count": 49,
   "id": "e63dc8f4-3534-43c8-ab53-e5bdaea97a06",
   "metadata": {},
   "outputs": [
    {
     "name": "stdout",
     "output_type": "stream",
     "text": [
      "[]\n"
     ]
    }
   ],
   "source": [
    "# Get the index values\n",
    "dark_cloud_cover_index_values = np.where(data['dark_cloud_cover'] == 100)[0].tolist()\n",
    "\n",
    "print(dark_cloud_cover_index_values)"
   ]
  },
  {
   "cell_type": "code",
   "execution_count": 50,
   "id": "7022e072-b30b-4b49-859f-cfab21eacec4",
   "metadata": {},
   "outputs": [
    {
     "name": "stdin",
     "output_type": "stream",
     "text": [
      "Enter target index:  1\n",
      "Enter amount to subtract from target index:  1\n",
      "Enter amount to add to target index:  1\n"
     ]
    }
   ],
   "source": [
    "target_index = input(\"Enter target index: \")\n",
    "subtract_from = input(\"Enter amount to subtract from target index: \")\n",
    "add_to = input(\"Enter amount to add to target index: \")"
   ]
  },
  {
   "cell_type": "code",
   "execution_count": 51,
   "id": "2e971462-3c50-49c8-9cd6-661a00e01845",
   "metadata": {},
   "outputs": [
    {
     "name": "stderr",
     "output_type": "stream",
     "text": [
      "C:\\Users\\jjel0\\AppData\\Local\\Temp\\ipykernel_35000\\2387346891.py:5: SettingWithCopyWarning: \n",
      "A value is trying to be set on a copy of a slice from a DataFrame.\n",
      "Try using .loc[row_indexer,col_indexer] = value instead\n",
      "\n",
      "See the caveats in the documentation: https://pandas.pydata.org/pandas-docs/stable/user_guide/indexing.html#returning-a-view-versus-a-copy\n",
      "  dark_cloud_cover_df['Date'] = pd.to_datetime(dark_cloud_cover_df['Date'])  # Ensure the column is in datetime format\n"
     ]
    },
    {
     "data": {
      "image/png": "[encoded data removed]",
      "text/plain": [
       "<Figure size 800x575 with 4 Axes>"
      ]
     },
     "metadata": {},
     "output_type": "display_data"
    }
   ],
   "source": [
    "low_value = int(target_index) - int(subtract_from)\n",
    "high_value = int(target_index) + int(add_to)\n",
    "dark_cloud_cover_df = data.iloc[low_value:high_value]\n",
    "\n",
    "dark_cloud_cover_df['Date'] = pd.to_datetime(dark_cloud_cover_df['Date'])  # Ensure the column is in datetime format\n",
    "dark_cloud_cover_df.set_index('Date', inplace=True)       # Set the column as the DataFrame index\n",
    "\n",
    "# Create a candlestick chart\n",
    "mpf.plot(dark_cloud_cover_df, type='candle', volume=True)"
   ]
  },
  {
   "cell_type": "markdown",
   "id": "f4c15077-d573-4ef9-a368-61163c5dd8f0",
   "metadata": {},
   "source": [
    "## Doji"
   ]
  },
  {
   "cell_type": "code",
   "execution_count": 52,
   "id": "85ed5be3-02c2-44fd-93b5-b05ffb269049",
   "metadata": {},
   "outputs": [
    {
     "data": {
      "text/html": [
       "<div>\n",
       "<style scoped>\n",
       "    .dataframe tbody tr th:only-of-type {\n",
       "        vertical-align: middle;\n",
       "    }\n",
       "\n",
       "    .dataframe tbody tr th {\n",
       "        vertical-align: top;\n",
       "    }\n",
       "\n",
       "    .dataframe thead th {\n",
       "        text-align: right;\n",
       "    }\n",
       "</style>\n",
       "<table border=\"1\" class=\"dataframe\">\n",
       "  <thead>\n",
       "    <tr style=\"text-align: right;\">\n",
       "      <th></th>\n",
       "      <th>Date</th>\n",
       "      <th>Open</th>\n",
       "      <th>High</th>\n",
       "      <th>Low</th>\n",
       "      <th>Close</th>\n",
       "      <th>Volume</th>\n",
       "      <th>engulfing</th>\n",
       "      <th>hammer</th>\n",
       "      <th>inverse_hammer</th>\n",
       "      <th>piercing</th>\n",
       "      <th>morning_star</th>\n",
       "      <th>3adv_white_soldiers</th>\n",
       "      <th>hanging_man</th>\n",
       "      <th>shooting_star</th>\n",
       "      <th>evening_star</th>\n",
       "      <th>evening_doji_star</th>\n",
       "      <th>three_black_crows</th>\n",
       "      <th>dark_cloud_cover</th>\n",
       "      <th>doji</th>\n",
       "    </tr>\n",
       "  </thead>\n",
       "  <tbody>\n",
       "    <tr>\n",
       "      <th>27</th>\n",
       "      <td>7/23/2024</td>\n",
       "      <td>554.54</td>\n",
       "      <td>556.7350</td>\n",
       "      <td>553.275</td>\n",
       "      <td>553.780</td>\n",
       "      <td>34439560</td>\n",
       "      <td>0</td>\n",
       "      <td>0</td>\n",
       "      <td>0</td>\n",
       "      <td>0</td>\n",
       "      <td>0</td>\n",
       "      <td>0</td>\n",
       "      <td>0</td>\n",
       "      <td>-100</td>\n",
       "      <td>0</td>\n",
       "      <td>0</td>\n",
       "      <td>0</td>\n",
       "      <td>0</td>\n",
       "      <td>100</td>\n",
       "    </tr>\n",
       "    <tr>\n",
       "      <th>33</th>\n",
       "      <td>7/15/2024</td>\n",
       "      <td>562.03</td>\n",
       "      <td>564.8371</td>\n",
       "      <td>559.630</td>\n",
       "      <td>561.530</td>\n",
       "      <td>40584290</td>\n",
       "      <td>0</td>\n",
       "      <td>0</td>\n",
       "      <td>0</td>\n",
       "      <td>0</td>\n",
       "      <td>0</td>\n",
       "      <td>0</td>\n",
       "      <td>0</td>\n",
       "      <td>0</td>\n",
       "      <td>0</td>\n",
       "      <td>0</td>\n",
       "      <td>0</td>\n",
       "      <td>0</td>\n",
       "      <td>100</td>\n",
       "    </tr>\n",
       "    <tr>\n",
       "      <th>37</th>\n",
       "      <td>7/9/2024</td>\n",
       "      <td>556.26</td>\n",
       "      <td>557.1800</td>\n",
       "      <td>555.520</td>\n",
       "      <td>555.820</td>\n",
       "      <td>27314130</td>\n",
       "      <td>0</td>\n",
       "      <td>0</td>\n",
       "      <td>100</td>\n",
       "      <td>0</td>\n",
       "      <td>0</td>\n",
       "      <td>0</td>\n",
       "      <td>0</td>\n",
       "      <td>0</td>\n",
       "      <td>0</td>\n",
       "      <td>0</td>\n",
       "      <td>0</td>\n",
       "      <td>0</td>\n",
       "      <td>100</td>\n",
       "    </tr>\n",
       "    <tr>\n",
       "      <th>38</th>\n",
       "      <td>7/8/2024</td>\n",
       "      <td>555.44</td>\n",
       "      <td>556.2501</td>\n",
       "      <td>554.190</td>\n",
       "      <td>555.280</td>\n",
       "      <td>36110450</td>\n",
       "      <td>0</td>\n",
       "      <td>0</td>\n",
       "      <td>0</td>\n",
       "      <td>0</td>\n",
       "      <td>0</td>\n",
       "      <td>0</td>\n",
       "      <td>0</td>\n",
       "      <td>0</td>\n",
       "      <td>0</td>\n",
       "      <td>0</td>\n",
       "      <td>0</td>\n",
       "      <td>0</td>\n",
       "      <td>100</td>\n",
       "    </tr>\n",
       "    <tr>\n",
       "      <th>42</th>\n",
       "      <td>7/1/2024</td>\n",
       "      <td>545.63</td>\n",
       "      <td>545.8800</td>\n",
       "      <td>542.520</td>\n",
       "      <td>545.340</td>\n",
       "      <td>40297810</td>\n",
       "      <td>0</td>\n",
       "      <td>0</td>\n",
       "      <td>0</td>\n",
       "      <td>0</td>\n",
       "      <td>0</td>\n",
       "      <td>0</td>\n",
       "      <td>0</td>\n",
       "      <td>0</td>\n",
       "      <td>0</td>\n",
       "      <td>0</td>\n",
       "      <td>0</td>\n",
       "      <td>0</td>\n",
       "      <td>100</td>\n",
       "    </tr>\n",
       "    <tr>\n",
       "      <th>...</th>\n",
       "      <td>...</td>\n",
       "      <td>...</td>\n",
       "      <td>...</td>\n",
       "      <td>...</td>\n",
       "      <td>...</td>\n",
       "      <td>...</td>\n",
       "      <td>...</td>\n",
       "      <td>...</td>\n",
       "      <td>...</td>\n",
       "      <td>...</td>\n",
       "      <td>...</td>\n",
       "      <td>...</td>\n",
       "      <td>...</td>\n",
       "      <td>...</td>\n",
       "      <td>...</td>\n",
       "      <td>...</td>\n",
       "      <td>...</td>\n",
       "      <td>...</td>\n",
       "      <td>...</td>\n",
       "    </tr>\n",
       "    <tr>\n",
       "      <th>2463</th>\n",
       "      <td>11/13/2014</td>\n",
       "      <td>204.16</td>\n",
       "      <td>204.8300</td>\n",
       "      <td>203.210</td>\n",
       "      <td>204.190</td>\n",
       "      <td>84981760</td>\n",
       "      <td>0</td>\n",
       "      <td>0</td>\n",
       "      <td>0</td>\n",
       "      <td>0</td>\n",
       "      <td>0</td>\n",
       "      <td>0</td>\n",
       "      <td>0</td>\n",
       "      <td>0</td>\n",
       "      <td>0</td>\n",
       "      <td>0</td>\n",
       "      <td>0</td>\n",
       "      <td>0</td>\n",
       "      <td>100</td>\n",
       "    </tr>\n",
       "    <tr>\n",
       "      <th>2482</th>\n",
       "      <td>10/17/2014</td>\n",
       "      <td>188.42</td>\n",
       "      <td>189.7500</td>\n",
       "      <td>187.620</td>\n",
       "      <td>188.470</td>\n",
       "      <td>214147600</td>\n",
       "      <td>0</td>\n",
       "      <td>0</td>\n",
       "      <td>0</td>\n",
       "      <td>0</td>\n",
       "      <td>0</td>\n",
       "      <td>0</td>\n",
       "      <td>0</td>\n",
       "      <td>0</td>\n",
       "      <td>0</td>\n",
       "      <td>0</td>\n",
       "      <td>0</td>\n",
       "      <td>0</td>\n",
       "      <td>100</td>\n",
       "    </tr>\n",
       "    <tr>\n",
       "      <th>2493</th>\n",
       "      <td>10/2/2014</td>\n",
       "      <td>194.18</td>\n",
       "      <td>195.0550</td>\n",
       "      <td>192.350</td>\n",
       "      <td>194.380</td>\n",
       "      <td>157161800</td>\n",
       "      <td>0</td>\n",
       "      <td>0</td>\n",
       "      <td>0</td>\n",
       "      <td>0</td>\n",
       "      <td>0</td>\n",
       "      <td>0</td>\n",
       "      <td>0</td>\n",
       "      <td>0</td>\n",
       "      <td>0</td>\n",
       "      <td>0</td>\n",
       "      <td>0</td>\n",
       "      <td>0</td>\n",
       "      <td>100</td>\n",
       "    </tr>\n",
       "    <tr>\n",
       "      <th>2504</th>\n",
       "      <td>9/17/2014</td>\n",
       "      <td>200.77</td>\n",
       "      <td>201.6800</td>\n",
       "      <td>199.750</td>\n",
       "      <td>200.750</td>\n",
       "      <td>149647200</td>\n",
       "      <td>0</td>\n",
       "      <td>0</td>\n",
       "      <td>0</td>\n",
       "      <td>0</td>\n",
       "      <td>0</td>\n",
       "      <td>0</td>\n",
       "      <td>0</td>\n",
       "      <td>0</td>\n",
       "      <td>0</td>\n",
       "      <td>0</td>\n",
       "      <td>0</td>\n",
       "      <td>0</td>\n",
       "      <td>100</td>\n",
       "    </tr>\n",
       "    <tr>\n",
       "      <th>2506</th>\n",
       "      <td>9/15/2014</td>\n",
       "      <td>199.16</td>\n",
       "      <td>199.3200</td>\n",
       "      <td>198.380</td>\n",
       "      <td>198.981</td>\n",
       "      <td>76350030</td>\n",
       "      <td>0</td>\n",
       "      <td>0</td>\n",
       "      <td>0</td>\n",
       "      <td>0</td>\n",
       "      <td>0</td>\n",
       "      <td>0</td>\n",
       "      <td>0</td>\n",
       "      <td>0</td>\n",
       "      <td>0</td>\n",
       "      <td>0</td>\n",
       "      <td>0</td>\n",
       "      <td>0</td>\n",
       "      <td>100</td>\n",
       "    </tr>\n",
       "  </tbody>\n",
       "</table>\n",
       "<p>367 rows × 19 columns</p>\n",
       "</div>"
      ],
      "text/plain": [
       "            Date    Open      High      Low    Close     Volume  engulfing  \\\n",
       "27     7/23/2024  554.54  556.7350  553.275  553.780   34439560          0   \n",
       "33     7/15/2024  562.03  564.8371  559.630  561.530   40584290          0   \n",
       "37      7/9/2024  556.26  557.1800  555.520  555.820   27314130          0   \n",
       "38      7/8/2024  555.44  556.2501  554.190  555.280   36110450          0   \n",
       "42      7/1/2024  545.63  545.8800  542.520  545.340   40297810          0   \n",
       "...          ...     ...       ...      ...      ...        ...        ...   \n",
       "2463  11/13/2014  204.16  204.8300  203.210  204.190   84981760          0   \n",
       "2482  10/17/2014  188.42  189.7500  187.620  188.470  214147600          0   \n",
       "2493   10/2/2014  194.18  195.0550  192.350  194.380  157161800          0   \n",
       "2504   9/17/2014  200.77  201.6800  199.750  200.750  149647200          0   \n",
       "2506   9/15/2014  199.16  199.3200  198.380  198.981   76350030          0   \n",
       "\n",
       "      hammer  inverse_hammer  piercing  morning_star  3adv_white_soldiers  \\\n",
       "27         0               0         0             0                    0   \n",
       "33         0               0         0             0                    0   \n",
       "37         0             100         0             0                    0   \n",
       "38         0               0         0             0                    0   \n",
       "42         0               0         0             0                    0   \n",
       "...      ...             ...       ...           ...                  ...   \n",
       "2463       0               0         0             0                    0   \n",
       "2482       0               0         0             0                    0   \n",
       "2493       0               0         0             0                    0   \n",
       "2504       0               0         0             0                    0   \n",
       "2506       0               0         0             0                    0   \n",
       "\n",
       "      hanging_man  shooting_star  evening_star  evening_doji_star  \\\n",
       "27              0           -100             0                  0   \n",
       "33              0              0             0                  0   \n",
       "37              0              0             0                  0   \n",
       "38              0              0             0                  0   \n",
       "42              0              0             0                  0   \n",
       "...           ...            ...           ...                ...   \n",
       "2463            0              0             0                  0   \n",
       "2482            0              0             0                  0   \n",
       "2493            0              0             0                  0   \n",
       "2504            0              0             0                  0   \n",
       "2506            0              0             0                  0   \n",
       "\n",
       "      three_black_crows  dark_cloud_cover  doji  \n",
       "27                    0                 0   100  \n",
       "33                    0                 0   100  \n",
       "37                    0                 0   100  \n",
       "38                    0                 0   100  \n",
       "42                    0                 0   100  \n",
       "...                 ...               ...   ...  \n",
       "2463                  0                 0   100  \n",
       "2482                  0                 0   100  \n",
       "2493                  0                 0   100  \n",
       "2504                  0                 0   100  \n",
       "2506                  0                 0   100  \n",
       "\n",
       "[367 rows x 19 columns]"
      ]
     },
     "execution_count": 52,
     "metadata": {},
     "output_type": "execute_result"
    }
   ],
   "source": [
    "# Detect a doji pattern\n",
    "data['doji'] = talib.CDLDOJI(data['Open'], data['High'], data['Low'], data['Close'])\n",
    "\n",
    "# Get the dates where the doji pattern occurred\n",
    "doji_dates = data[data['doji'] == 100].index.tolist()\n",
    "\n",
    "data[data['doji'] == 100]"
   ]
  },
  {
   "cell_type": "code",
   "execution_count": 53,
   "id": "69f67ce2-87ad-46c3-b89d-bd90022a81ce",
   "metadata": {},
   "outputs": [
    {
     "name": "stdout",
     "output_type": "stream",
     "text": [
      "[27, 33, 37, 38, 42, 48, 54, 57, 58, 64, 65, 81, 85, 98, 100, 104, 106, 109, 124, 126, 128, 138, 140, 147, 149, 157, 168, 171, 176, 190, 191, 192, 193, 202, 204, 226, 238, 242, 244, 272, 273, 281, 289, 290, 298, 301, 304, 307, 317, 320, 327, 329, 330, 335, 341, 346, 352, 356, 358, 372, 374, 377, 393, 409, 433, 441, 444, 456, 459, 462, 467, 473, 492, 503, 507, 520, 528, 552, 565, 572, 575, 581, 588, 600, 602, 605, 614, 625, 638, 660, 664, 670, 680, 691, 696, 697, 710, 716, 727, 735, 742, 748, 751, 758, 763, 765, 767, 768, 769, 786, 797, 800, 809, 816, 820, 827, 836, 838, 839, 840, 842, 848, 867, 874, 886, 907, 909, 913, 921, 923, 929, 930, 937, 939, 943, 946, 954, 957, 961, 967, 969, 970, 1007, 1009, 1015, 1017, 1031, 1036, 1063, 1066, 1085, 1087, 1100, 1101, 1113, 1122, 1127, 1137, 1139, 1140, 1141, 1142, 1144, 1148, 1161, 1164, 1198, 1210, 1225, 1227, 1228, 1249, 1253, 1256, 1264, 1266, 1268, 1281, 1286, 1293, 1306, 1307, 1310, 1311, 1312, 1322, 1327, 1329, 1337, 1344, 1346, 1350, 1354, 1362, 1364, 1367, 1368, 1375, 1384, 1387, 1395, 1400, 1403, 1408, 1414, 1420, 1425, 1445, 1449, 1459, 1465, 1475, 1481, 1486, 1487, 1489, 1500, 1506, 1515, 1516, 1524, 1533, 1535, 1537, 1554, 1564, 1565, 1569, 1575, 1576, 1581, 1589, 1602, 1607, 1611, 1621, 1622, 1624, 1654, 1670, 1677, 1678, 1680, 1684, 1699, 1700, 1703, 1717, 1722, 1728, 1730, 1732, 1746, 1747, 1754, 1756, 1758, 1770, 1773, 1778, 1780, 1787, 1792, 1796, 1808, 1812, 1818, 1819, 1820, 1821, 1836, 1837, 1840, 1842, 1844, 1845, 1850, 1858, 1859, 1860, 1865, 1871, 1903, 1910, 1914, 1917, 1919, 1921, 1928, 1946, 1953, 1974, 1976, 1982, 1984, 1989, 2000, 2002, 2006, 2007, 2009, 2010, 2027, 2061, 2066, 2071, 2073, 2078, 2083, 2094, 2100, 2104, 2105, 2108, 2133, 2157, 2172, 2177, 2183, 2202, 2203, 2206, 2207, 2235, 2236, 2242, 2244, 2249, 2250, 2251, 2260, 2273, 2276, 2278, 2280, 2289, 2294, 2297, 2312, 2313, 2316, 2320, 2322, 2326, 2330, 2333, 2338, 2347, 2353, 2388, 2389, 2393, 2394, 2405, 2408, 2414, 2434, 2438, 2448, 2449, 2456, 2459, 2463, 2482, 2493, 2504, 2506]\n"
     ]
    }
   ],
   "source": [
    "# Get the index values\n",
    "doji_index_values = np.where(data['doji'] == 100)[0].tolist()\n",
    "\n",
    "print(doji_index_values)"
   ]
  },
  {
   "cell_type": "code",
   "execution_count": 54,
   "id": "8a8ecaaf-bf2b-4e5a-9842-6178088d7593",
   "metadata": {},
   "outputs": [
    {
     "name": "stdin",
     "output_type": "stream",
     "text": [
      "Enter target index:  1337\n",
      "Enter amount to subtract from target index:  2\n",
      "Enter amount to add to target index:  10\n"
     ]
    }
   ],
   "source": [
    "target_index = input(\"Enter target index: \")\n",
    "subtract_from = input(\"Enter amount to subtract from target index: \")\n",
    "add_to = input(\"Enter amount to add to target index: \")"
   ]
  },
  {
   "cell_type": "code",
   "execution_count": 55,
   "id": "c7d4f14a-4316-47a8-80d4-372fe17ae4ff",
   "metadata": {},
   "outputs": [
    {
     "name": "stderr",
     "output_type": "stream",
     "text": [
      "C:\\Users\\jjel0\\AppData\\Local\\Temp\\ipykernel_35000\\318927622.py:5: SettingWithCopyWarning: \n",
      "A value is trying to be set on a copy of a slice from a DataFrame.\n",
      "Try using .loc[row_indexer,col_indexer] = value instead\n",
      "\n",
      "See the caveats in the documentation: https://pandas.pydata.org/pandas-docs/stable/user_guide/indexing.html#returning-a-view-versus-a-copy\n",
      "  doji_df['Date'] = pd.to_datetime(doji_df['Date'])  # Ensure the column is in datetime format\n"
     ]
    },
    {
     "data": {
      "image/png": "[encoded data removed]",
      "text/plain": [
       "<Figure size 800x575 with 4 Axes>"
      ]
     },
     "metadata": {},
     "output_type": "display_data"
    }
   ],
   "source": [
    "low_value = int(target_index) - int(subtract_from)\n",
    "high_value = int(target_index) + int(add_to)\n",
    "doji_df = data.iloc[low_value:high_value]\n",
    "\n",
    "doji_df['Date'] = pd.to_datetime(doji_df['Date'])  # Ensure the column is in datetime format\n",
    "doji_df.set_index('Date', inplace=True)       # Set the column as the DataFrame index\n",
    "\n",
    "# Create a candlestick chart\n",
    "mpf.plot(doji_df, type='candle', volume=True)"
   ]
  },
  {
   "cell_type": "markdown",
   "id": "cb027dbe-5a70-4249-a527-32e052368ff5",
   "metadata": {},
   "source": [
    "## Spinning Top"
   ]
  },
  {
   "cell_type": "code",
   "execution_count": 56,
   "id": "f2199095-5551-412e-8821-b264a00d998d",
   "metadata": {},
   "outputs": [
    {
     "data": {
      "text/html": [
       "<div>\n",
       "<style scoped>\n",
       "    .dataframe tbody tr th:only-of-type {\n",
       "        vertical-align: middle;\n",
       "    }\n",
       "\n",
       "    .dataframe tbody tr th {\n",
       "        vertical-align: top;\n",
       "    }\n",
       "\n",
       "    .dataframe thead th {\n",
       "        text-align: right;\n",
       "    }\n",
       "</style>\n",
       "<table border=\"1\" class=\"dataframe\">\n",
       "  <thead>\n",
       "    <tr style=\"text-align: right;\">\n",
       "      <th></th>\n",
       "      <th>Date</th>\n",
       "      <th>Open</th>\n",
       "      <th>High</th>\n",
       "      <th>Low</th>\n",
       "      <th>Close</th>\n",
       "      <th>Volume</th>\n",
       "      <th>engulfing</th>\n",
       "      <th>hammer</th>\n",
       "      <th>inverse_hammer</th>\n",
       "      <th>piercing</th>\n",
       "      <th>morning_star</th>\n",
       "      <th>3adv_white_soldiers</th>\n",
       "      <th>hanging_man</th>\n",
       "      <th>shooting_star</th>\n",
       "      <th>evening_star</th>\n",
       "      <th>evening_doji_star</th>\n",
       "      <th>three_black_crows</th>\n",
       "      <th>dark_cloud_cover</th>\n",
       "      <th>doji</th>\n",
       "      <th>spinning_top</th>\n",
       "    </tr>\n",
       "  </thead>\n",
       "  <tbody>\n",
       "    <tr>\n",
       "      <th>11</th>\n",
       "      <td>8/14/2024</td>\n",
       "      <td>542.850</td>\n",
       "      <td>544.9600</td>\n",
       "      <td>540.120</td>\n",
       "      <td>543.750</td>\n",
       "      <td>42446930</td>\n",
       "      <td>0</td>\n",
       "      <td>0</td>\n",
       "      <td>0</td>\n",
       "      <td>0</td>\n",
       "      <td>0</td>\n",
       "      <td>0</td>\n",
       "      <td>0</td>\n",
       "      <td>0</td>\n",
       "      <td>0</td>\n",
       "      <td>0</td>\n",
       "      <td>0</td>\n",
       "      <td>0</td>\n",
       "      <td>0</td>\n",
       "      <td>100</td>\n",
       "    </tr>\n",
       "    <tr>\n",
       "      <th>48</th>\n",
       "      <td>6/21/2024</td>\n",
       "      <td>544.400</td>\n",
       "      <td>545.6500</td>\n",
       "      <td>543.020</td>\n",
       "      <td>544.510</td>\n",
       "      <td>64513860</td>\n",
       "      <td>0</td>\n",
       "      <td>0</td>\n",
       "      <td>0</td>\n",
       "      <td>0</td>\n",
       "      <td>0</td>\n",
       "      <td>0</td>\n",
       "      <td>0</td>\n",
       "      <td>0</td>\n",
       "      <td>0</td>\n",
       "      <td>0</td>\n",
       "      <td>0</td>\n",
       "      <td>0</td>\n",
       "      <td>100</td>\n",
       "      <td>100</td>\n",
       "    </tr>\n",
       "    <tr>\n",
       "      <th>57</th>\n",
       "      <td>6/7/2024</td>\n",
       "      <td>533.660</td>\n",
       "      <td>536.8900</td>\n",
       "      <td>532.535</td>\n",
       "      <td>534.010</td>\n",
       "      <td>43224530</td>\n",
       "      <td>0</td>\n",
       "      <td>0</td>\n",
       "      <td>0</td>\n",
       "      <td>0</td>\n",
       "      <td>0</td>\n",
       "      <td>0</td>\n",
       "      <td>0</td>\n",
       "      <td>0</td>\n",
       "      <td>0</td>\n",
       "      <td>0</td>\n",
       "      <td>0</td>\n",
       "      <td>0</td>\n",
       "      <td>100</td>\n",
       "      <td>100</td>\n",
       "    </tr>\n",
       "    <tr>\n",
       "      <th>81</th>\n",
       "      <td>5/3/2024</td>\n",
       "      <td>511.160</td>\n",
       "      <td>512.5500</td>\n",
       "      <td>508.560</td>\n",
       "      <td>511.290</td>\n",
       "      <td>72756710</td>\n",
       "      <td>0</td>\n",
       "      <td>0</td>\n",
       "      <td>0</td>\n",
       "      <td>0</td>\n",
       "      <td>0</td>\n",
       "      <td>0</td>\n",
       "      <td>0</td>\n",
       "      <td>0</td>\n",
       "      <td>0</td>\n",
       "      <td>0</td>\n",
       "      <td>0</td>\n",
       "      <td>0</td>\n",
       "      <td>100</td>\n",
       "      <td>100</td>\n",
       "    </tr>\n",
       "    <tr>\n",
       "      <th>90</th>\n",
       "      <td>4/22/2024</td>\n",
       "      <td>497.830</td>\n",
       "      <td>502.3800</td>\n",
       "      <td>495.430</td>\n",
       "      <td>499.720</td>\n",
       "      <td>67961050</td>\n",
       "      <td>0</td>\n",
       "      <td>0</td>\n",
       "      <td>0</td>\n",
       "      <td>0</td>\n",
       "      <td>0</td>\n",
       "      <td>0</td>\n",
       "      <td>0</td>\n",
       "      <td>0</td>\n",
       "      <td>0</td>\n",
       "      <td>0</td>\n",
       "      <td>0</td>\n",
       "      <td>0</td>\n",
       "      <td>0</td>\n",
       "      <td>100</td>\n",
       "    </tr>\n",
       "    <tr>\n",
       "      <th>...</th>\n",
       "      <td>...</td>\n",
       "      <td>...</td>\n",
       "      <td>...</td>\n",
       "      <td>...</td>\n",
       "      <td>...</td>\n",
       "      <td>...</td>\n",
       "      <td>...</td>\n",
       "      <td>...</td>\n",
       "      <td>...</td>\n",
       "      <td>...</td>\n",
       "      <td>...</td>\n",
       "      <td>...</td>\n",
       "      <td>...</td>\n",
       "      <td>...</td>\n",
       "      <td>...</td>\n",
       "      <td>...</td>\n",
       "      <td>...</td>\n",
       "      <td>...</td>\n",
       "      <td>...</td>\n",
       "      <td>...</td>\n",
       "    </tr>\n",
       "    <tr>\n",
       "      <th>2465</th>\n",
       "      <td>11/11/2014</td>\n",
       "      <td>204.055</td>\n",
       "      <td>204.3100</td>\n",
       "      <td>203.650</td>\n",
       "      <td>204.175</td>\n",
       "      <td>54294510</td>\n",
       "      <td>0</td>\n",
       "      <td>0</td>\n",
       "      <td>0</td>\n",
       "      <td>0</td>\n",
       "      <td>0</td>\n",
       "      <td>0</td>\n",
       "      <td>0</td>\n",
       "      <td>0</td>\n",
       "      <td>0</td>\n",
       "      <td>0</td>\n",
       "      <td>0</td>\n",
       "      <td>0</td>\n",
       "      <td>0</td>\n",
       "      <td>100</td>\n",
       "    </tr>\n",
       "    <tr>\n",
       "      <th>2467</th>\n",
       "      <td>11/7/2014</td>\n",
       "      <td>203.170</td>\n",
       "      <td>203.5999</td>\n",
       "      <td>202.610</td>\n",
       "      <td>203.340</td>\n",
       "      <td>89443040</td>\n",
       "      <td>0</td>\n",
       "      <td>0</td>\n",
       "      <td>0</td>\n",
       "      <td>0</td>\n",
       "      <td>0</td>\n",
       "      <td>0</td>\n",
       "      <td>0</td>\n",
       "      <td>0</td>\n",
       "      <td>0</td>\n",
       "      <td>0</td>\n",
       "      <td>0</td>\n",
       "      <td>0</td>\n",
       "      <td>0</td>\n",
       "      <td>100</td>\n",
       "    </tr>\n",
       "    <tr>\n",
       "      <th>2478</th>\n",
       "      <td>10/23/2014</td>\n",
       "      <td>194.620</td>\n",
       "      <td>196.2000</td>\n",
       "      <td>194.260</td>\n",
       "      <td>194.930</td>\n",
       "      <td>153664900</td>\n",
       "      <td>0</td>\n",
       "      <td>0</td>\n",
       "      <td>0</td>\n",
       "      <td>0</td>\n",
       "      <td>0</td>\n",
       "      <td>0</td>\n",
       "      <td>0</td>\n",
       "      <td>0</td>\n",
       "      <td>0</td>\n",
       "      <td>0</td>\n",
       "      <td>0</td>\n",
       "      <td>0</td>\n",
       "      <td>0</td>\n",
       "      <td>100</td>\n",
       "    </tr>\n",
       "    <tr>\n",
       "      <th>2482</th>\n",
       "      <td>10/17/2014</td>\n",
       "      <td>188.420</td>\n",
       "      <td>189.7500</td>\n",
       "      <td>187.620</td>\n",
       "      <td>188.470</td>\n",
       "      <td>214147600</td>\n",
       "      <td>0</td>\n",
       "      <td>0</td>\n",
       "      <td>0</td>\n",
       "      <td>0</td>\n",
       "      <td>0</td>\n",
       "      <td>0</td>\n",
       "      <td>0</td>\n",
       "      <td>0</td>\n",
       "      <td>0</td>\n",
       "      <td>0</td>\n",
       "      <td>0</td>\n",
       "      <td>0</td>\n",
       "      <td>100</td>\n",
       "      <td>100</td>\n",
       "    </tr>\n",
       "    <tr>\n",
       "      <th>2493</th>\n",
       "      <td>10/2/2014</td>\n",
       "      <td>194.180</td>\n",
       "      <td>195.0550</td>\n",
       "      <td>192.350</td>\n",
       "      <td>194.380</td>\n",
       "      <td>157161800</td>\n",
       "      <td>0</td>\n",
       "      <td>0</td>\n",
       "      <td>0</td>\n",
       "      <td>0</td>\n",
       "      <td>0</td>\n",
       "      <td>0</td>\n",
       "      <td>0</td>\n",
       "      <td>0</td>\n",
       "      <td>0</td>\n",
       "      <td>0</td>\n",
       "      <td>0</td>\n",
       "      <td>0</td>\n",
       "      <td>100</td>\n",
       "      <td>100</td>\n",
       "    </tr>\n",
       "  </tbody>\n",
       "</table>\n",
       "<p>281 rows × 20 columns</p>\n",
       "</div>"
      ],
      "text/plain": [
       "            Date     Open      High      Low    Close     Volume  engulfing  \\\n",
       "11     8/14/2024  542.850  544.9600  540.120  543.750   42446930          0   \n",
       "48     6/21/2024  544.400  545.6500  543.020  544.510   64513860          0   \n",
       "57      6/7/2024  533.660  536.8900  532.535  534.010   43224530          0   \n",
       "81      5/3/2024  511.160  512.5500  508.560  511.290   72756710          0   \n",
       "90     4/22/2024  497.830  502.3800  495.430  499.720   67961050          0   \n",
       "...          ...      ...       ...      ...      ...        ...        ...   \n",
       "2465  11/11/2014  204.055  204.3100  203.650  204.175   54294510          0   \n",
       "2467   11/7/2014  203.170  203.5999  202.610  203.340   89443040          0   \n",
       "2478  10/23/2014  194.620  196.2000  194.260  194.930  153664900          0   \n",
       "2482  10/17/2014  188.420  189.7500  187.620  188.470  214147600          0   \n",
       "2493   10/2/2014  194.180  195.0550  192.350  194.380  157161800          0   \n",
       "\n",
       "      hammer  inverse_hammer  piercing  morning_star  3adv_white_soldiers  \\\n",
       "11         0               0         0             0                    0   \n",
       "48         0               0         0             0                    0   \n",
       "57         0               0         0             0                    0   \n",
       "81         0               0         0             0                    0   \n",
       "90         0               0         0             0                    0   \n",
       "...      ...             ...       ...           ...                  ...   \n",
       "2465       0               0         0             0                    0   \n",
       "2467       0               0         0             0                    0   \n",
       "2478       0               0         0             0                    0   \n",
       "2482       0               0         0             0                    0   \n",
       "2493       0               0         0             0                    0   \n",
       "\n",
       "      hanging_man  shooting_star  evening_star  evening_doji_star  \\\n",
       "11              0              0             0                  0   \n",
       "48              0              0             0                  0   \n",
       "57              0              0             0                  0   \n",
       "81              0              0             0                  0   \n",
       "90              0              0             0                  0   \n",
       "...           ...            ...           ...                ...   \n",
       "2465            0              0             0                  0   \n",
       "2467            0              0             0                  0   \n",
       "2478            0              0             0                  0   \n",
       "2482            0              0             0                  0   \n",
       "2493            0              0             0                  0   \n",
       "\n",
       "      three_black_crows  dark_cloud_cover  doji  spinning_top  \n",
       "11                    0                 0     0           100  \n",
       "48                    0                 0   100           100  \n",
       "57                    0                 0   100           100  \n",
       "81                    0                 0   100           100  \n",
       "90                    0                 0     0           100  \n",
       "...                 ...               ...   ...           ...  \n",
       "2465                  0                 0     0           100  \n",
       "2467                  0                 0     0           100  \n",
       "2478                  0                 0     0           100  \n",
       "2482                  0                 0   100           100  \n",
       "2493                  0                 0   100           100  \n",
       "\n",
       "[281 rows x 20 columns]"
      ]
     },
     "execution_count": 56,
     "metadata": {},
     "output_type": "execute_result"
    }
   ],
   "source": [
    "# Detect a spinning top pattern\n",
    "data['spinning_top'] = talib.CDLSPINNINGTOP(data['Open'], data['High'], data['Low'], data['Close'])\n",
    "\n",
    "# Get the dates where the spinning top pattern occurred\n",
    "spinning_top_dates = data[data['spinning_top'] == 100].index\n",
    "\n",
    "# Get the index values\n",
    "spinning_top_values = np.where(data['doji'] == 100)[0].tolist()\n",
    "\n",
    "data[data['spinning_top'] == 100]"
   ]
  },
  {
   "cell_type": "code",
   "execution_count": 57,
   "id": "250bbcb3-cb05-4a58-9ed2-86398e520961",
   "metadata": {},
   "outputs": [
    {
     "name": "stdout",
     "output_type": "stream",
     "text": [
      "[11, 48, 57, 81, 90, 98, 126, 140, 147, 156, 163, 166, 175, 185, 192, 193, 195, 204, 213, 214, 226, 229, 238, 242, 244, 253, 254, 267, 272, 276, 278, 281, 290, 298, 304, 320, 327, 335, 341, 342, 368, 372, 387, 393, 409, 415, 424, 432, 433, 453, 492, 503, 511, 539, 541, 544, 552, 554, 572, 575, 577, 581, 584, 588, 595, 614, 625, 644, 652, 664, 670, 680, 691, 723, 738, 748, 758, 768, 800, 805, 809, 810, 815, 820, 827, 842, 848, 860, 875, 909, 930, 937, 939, 941, 946, 950, 954, 955, 957, 961, 996, 1014, 1016, 1017, 1025, 1063, 1066, 1096, 1101, 1104, 1113, 1115, 1119, 1120, 1141, 1142, 1148, 1179, 1183, 1184, 1206, 1210, 1225, 1227, 1228, 1230, 1247, 1249, 1256, 1266, 1286, 1294, 1301, 1302, 1308, 1311, 1312, 1327, 1337, 1354, 1364, 1365, 1367, 1368, 1387, 1394, 1408, 1409, 1414, 1419, 1439, 1445, 1449, 1459, 1475, 1481, 1486, 1489, 1500, 1507, 1514, 1515, 1516, 1524, 1565, 1569, 1575, 1579, 1581, 1589, 1591, 1604, 1608, 1611, 1622, 1647, 1648, 1670, 1673, 1679, 1684, 1688, 1700, 1703, 1728, 1732, 1734, 1741, 1748, 1754, 1756, 1767, 1773, 1787, 1792, 1796, 1800, 1807, 1818, 1819, 1821, 1825, 1829, 1837, 1843, 1845, 1854, 1860, 1861, 1871, 1881, 1884, 1903, 1914, 1919, 1924, 1926, 1946, 1953, 1976, 1977, 1982, 1984, 1996, 2007, 2010, 2024, 2027, 2030, 2037, 2048, 2061, 2066, 2073, 2083, 2084, 2094, 2104, 2105, 2126, 2130, 2133, 2136, 2151, 2166, 2167, 2176, 2190, 2195, 2202, 2226, 2229, 2235, 2242, 2249, 2250, 2300, 2316, 2320, 2322, 2327, 2338, 2341, 2347, 2350, 2365, 2373, 2380, 2403, 2408, 2438, 2448, 2449, 2456, 2462, 2463, 2465, 2467, 2478, 2482, 2493]\n"
     ]
    }
   ],
   "source": [
    "# Get the index values\n",
    "spinning_top_index_values = np.where(data['spinning_top'] == 100)[0].tolist()\n",
    "\n",
    "print(spinning_top_index_values)"
   ]
  },
  {
   "cell_type": "code",
   "execution_count": 58,
   "id": "6698b7d0-3e17-4e4b-be92-3782e68cf89a",
   "metadata": {},
   "outputs": [
    {
     "name": "stdin",
     "output_type": "stream",
     "text": [
      "Enter target index:  1741\n",
      "Enter amount to subtract from target index:  2\n",
      "Enter amount to add to target index:  10\n"
     ]
    }
   ],
   "source": [
    "target_index = input(\"Enter target index: \")\n",
    "subtract_from = input(\"Enter amount to subtract from target index: \")\n",
    "add_to = input(\"Enter amount to add to target index: \")"
   ]
  },
  {
   "cell_type": "code",
   "execution_count": 59,
   "id": "c1c2aa13-95b1-4ab5-8df4-1716cb4014d7",
   "metadata": {},
   "outputs": [
    {
     "name": "stderr",
     "output_type": "stream",
     "text": [
      "C:\\Users\\jjel0\\AppData\\Local\\Temp\\ipykernel_35000\\3467033171.py:5: SettingWithCopyWarning: \n",
      "A value is trying to be set on a copy of a slice from a DataFrame.\n",
      "Try using .loc[row_indexer,col_indexer] = value instead\n",
      "\n",
      "See the caveats in the documentation: https://pandas.pydata.org/pandas-docs/stable/user_guide/indexing.html#returning-a-view-versus-a-copy\n",
      "  spinning_top_df['Date'] = pd.to_datetime(spinning_top_df['Date'])  # Ensure the column is in datetime format\n"
     ]
    },
    {
     "data": {
      "image/png": "[encoded data removed]",
      "text/plain": [
       "<Figure size 800x575 with 4 Axes>"
      ]
     },
     "metadata": {},
     "output_type": "display_data"
    }
   ],
   "source": [
    "low_value = int(target_index) - int(subtract_from)\n",
    "high_value = int(target_index) + int(add_to)\n",
    "spinning_top_df = data.iloc[low_value:high_value]\n",
    "\n",
    "spinning_top_df['Date'] = pd.to_datetime(spinning_top_df['Date'])  # Ensure the column is in datetime format\n",
    "spinning_top_df.set_index('Date', inplace=True)       # Set the column as the DataFrame index\n",
    "\n",
    "# Create a candlestick chart\n",
    "mpf.plot(spinning_top_df, type='candle', volume=True)"
   ]
  },
  {
   "cell_type": "markdown",
   "id": "98fec169-2ee4-4715-8933-dbb59e808feb",
   "metadata": {},
   "source": [
    "## Rising/Falling Three Methods"
   ]
  },
  {
   "cell_type": "code",
   "execution_count": 60,
   "id": "6ac3c41a-70c9-48a3-80fc-d88d7c1558cf",
   "metadata": {},
   "outputs": [
    {
     "data": {
      "text/html": [
       "<div>\n",
       "<style scoped>\n",
       "    .dataframe tbody tr th:only-of-type {\n",
       "        vertical-align: middle;\n",
       "    }\n",
       "\n",
       "    .dataframe tbody tr th {\n",
       "        vertical-align: top;\n",
       "    }\n",
       "\n",
       "    .dataframe thead th {\n",
       "        text-align: right;\n",
       "    }\n",
       "</style>\n",
       "<table border=\"1\" class=\"dataframe\">\n",
       "  <thead>\n",
       "    <tr style=\"text-align: right;\">\n",
       "      <th></th>\n",
       "      <th>Date</th>\n",
       "      <th>Open</th>\n",
       "      <th>High</th>\n",
       "      <th>Low</th>\n",
       "      <th>Close</th>\n",
       "      <th>Volume</th>\n",
       "      <th>engulfing</th>\n",
       "      <th>hammer</th>\n",
       "      <th>inverse_hammer</th>\n",
       "      <th>piercing</th>\n",
       "      <th>...</th>\n",
       "      <th>3adv_white_soldiers</th>\n",
       "      <th>hanging_man</th>\n",
       "      <th>shooting_star</th>\n",
       "      <th>evening_star</th>\n",
       "      <th>evening_doji_star</th>\n",
       "      <th>three_black_crows</th>\n",
       "      <th>dark_cloud_cover</th>\n",
       "      <th>doji</th>\n",
       "      <th>spinning_top</th>\n",
       "      <th>rising_falling_three_methods</th>\n",
       "    </tr>\n",
       "  </thead>\n",
       "  <tbody>\n",
       "  </tbody>\n",
       "</table>\n",
       "<p>0 rows × 21 columns</p>\n",
       "</div>"
      ],
      "text/plain": [
       "Empty DataFrame\n",
       "Columns: [Date, Open, High, Low, Close, Volume, engulfing, hammer, inverse_hammer, piercing, morning_star, 3adv_white_soldiers, hanging_man, shooting_star, evening_star, evening_doji_star, three_black_crows, dark_cloud_cover, doji, spinning_top, rising_falling_three_methods]\n",
       "Index: []\n",
       "\n",
       "[0 rows x 21 columns]"
      ]
     },
     "execution_count": 60,
     "metadata": {},
     "output_type": "execute_result"
    }
   ],
   "source": [
    "# Detect a rising falling three methods pattern\n",
    "data['rising_falling_three_methods'] = talib.CDLRISEFALL3METHODS(data['Open'], data['High'], data['Low'], data['Close'])\n",
    "\n",
    "# Get the dates where the rising falling three methods pattern occurred\n",
    "rising_falling_three_methods_dates = data[data['rising_falling_three_methods'] == 100].index\n",
    "\n",
    "data[data['rising_falling_three_methods'] == 100]"
   ]
  },
  {
   "cell_type": "code",
   "execution_count": 61,
   "id": "ac6d59ce-c897-4b1b-99fe-caa9f425bad1",
   "metadata": {},
   "outputs": [
    {
     "name": "stdout",
     "output_type": "stream",
     "text": [
      "[]\n"
     ]
    }
   ],
   "source": [
    "# Get the index values\n",
    "rising_falling_three_methods_index_values = np.where(data['rising_falling_three_methods'] == 100)[0].tolist()\n",
    "\n",
    "print(rising_falling_three_methods_index_values)"
   ]
  },
  {
   "cell_type": "code",
   "execution_count": 62,
   "id": "3136f9d2-bb21-4d71-a374-703e8946475d",
   "metadata": {},
   "outputs": [
    {
     "name": "stdin",
     "output_type": "stream",
     "text": [
      "Enter target index:  1\n",
      "Enter amount to subtract from target index:  1\n",
      "Enter amount to add to target index:  1\n"
     ]
    }
   ],
   "source": [
    "target_index = input(\"Enter target index: \")\n",
    "subtract_from = input(\"Enter amount to subtract from target index: \")\n",
    "add_to = input(\"Enter amount to add to target index: \")"
   ]
  },
  {
   "cell_type": "code",
   "execution_count": 63,
   "id": "7e8f1129-9452-404b-848e-acf97de07d20",
   "metadata": {},
   "outputs": [
    {
     "name": "stderr",
     "output_type": "stream",
     "text": [
      "C:\\Users\\jjel0\\AppData\\Local\\Temp\\ipykernel_35000\\3425068432.py:5: SettingWithCopyWarning: \n",
      "A value is trying to be set on a copy of a slice from a DataFrame.\n",
      "Try using .loc[row_indexer,col_indexer] = value instead\n",
      "\n",
      "See the caveats in the documentation: https://pandas.pydata.org/pandas-docs/stable/user_guide/indexing.html#returning-a-view-versus-a-copy\n",
      "  rising_falling_three_methods_df['Date'] = pd.to_datetime(rising_falling_three_methods_df['Date'])  # Ensure the column is in datetime format\n"
     ]
    },
    {
     "data": {
      "image/png": "[encoded data removed]",
      "text/plain": [
       "<Figure size 800x575 with 4 Axes>"
      ]
     },
     "metadata": {},
     "output_type": "display_data"
    }
   ],
   "source": [
    "low_value = int(target_index) - int(subtract_from)\n",
    "high_value = int(target_index) + int(add_to)\n",
    "rising_falling_three_methods_df = data.iloc[low_value:high_value]\n",
    "\n",
    "rising_falling_three_methods_df['Date'] = pd.to_datetime(rising_falling_three_methods_df['Date'])  # Ensure the column is in datetime format\n",
    "rising_falling_three_methods_df.set_index('Date', inplace=True)       # Set the column as the DataFrame index\n",
    "\n",
    "# Create a candlestick chart\n",
    "mpf.plot(rising_falling_three_methods_df, type='candle', volume=True)"
   ]
  },
  {
   "cell_type": "markdown",
   "id": "671278d2-196e-4af2-950f-c9e31121b117",
   "metadata": {},
   "source": [
    "## Plotting"
   ]
  },
  {
   "cell_type": "code",
   "execution_count": 64,
   "id": "644e4a05-a6b3-4de7-bfe4-ba3f26a4f102",
   "metadata": {},
   "outputs": [],
   "source": [
    "data['Date'] = pd.to_datetime(data['Date'])  # Ensure the column is in datetime format\n",
    "data.set_index('Date', inplace=True)       # Set the column as the DataFrame index"
   ]
  },
  {
   "cell_type": "code",
   "execution_count": 65,
   "id": "c08b7206-12a3-4fb9-97e7-83b6d53c96a6",
   "metadata": {},
   "outputs": [],
   "source": [
    "# Filter the last 100 rows\n",
    "last_100_rows = data.tail(100)"
   ]
  },
  {
   "cell_type": "code",
   "execution_count": 66,
   "id": "32a806a7-4eaa-4ded-b574-c6c30db6bfa5",
   "metadata": {
    "scrolled": true
   },
   "outputs": [
    {
     "data": {
      "image/png": "[encoded data removed]",
      "text/plain": [
       "<Figure size 800x575 with 4 Axes>"
      ]
     },
     "metadata": {},
     "output_type": "display_data"
    }
   ],
   "source": [
    "# Create a candlestick chart\n",
    "mpf.plot(last_100_rows, type='candle', volume=True)"
   ]
  },
  {
   "cell_type": "code",
   "execution_count": 67,
   "id": "dcd7b8d4-9293-42cc-b1da-7825c18d1b7e",
   "metadata": {},
   "outputs": [],
   "source": [
    "# Filter the last 10 rows\n",
    "last_10_rows = data.tail(10)"
   ]
  },
  {
   "cell_type": "code",
   "execution_count": 68,
   "id": "962285fc-c14b-4cdd-9314-516f0342d891",
   "metadata": {},
   "outputs": [
    {
     "data": {
      "image/png": "[encoded data removed]",
      "text/plain": [
       "<Figure size 800x575 with 4 Axes>"
      ]
     },
     "metadata": {},
     "output_type": "display_data"
    }
   ],
   "source": [
    "# Create a candlestick chart\n",
    "mpf.plot(last_10_rows, type='candle', volume=True)"
   ]
  },
  {
   "cell_type": "code",
   "execution_count": null,
   "id": "7f8f49dc-5e0f-4dfc-9035-754febea3576",
   "metadata": {},
   "outputs": [],
   "source": []
  }
 ],
 "metadata": {
  "kernelspec": {
   "display_name": "Python 3 (ipykernel)",
   "language": "python",
   "name": "python3"
  },
  "language_info": {
   "codemirror_mode": {
    "name": "ipython",
    "version": 3
   },
   "file_extension": ".py",
   "mimetype": "text/x-python",
   "name": "python",
   "nbconvert_exporter": "python",
   "pygments_lexer": "ipython3",
   "version": "3.9.21"
  }
 },
 "nbformat": 4,
 "nbformat_minor": 5
}
